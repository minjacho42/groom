{
 "cells": [
  {
   "cell_type": "markdown",
   "metadata": {},
   "source": [
    "\n",
    "## 617.Merge Two Binary Trees\n",
    "You are given two binary trees root1 and root2.\n",
    "\n",
    "Imagine that when you put one of them to cover the other, some nodes of the two trees are overlapped while the others are not. You need to merge the two trees into a new binary tree. The merge rule is that if two nodes overlap, then sum node values up as the new value of the merged node. Otherwise, the NOT null node will be used as the node of the new tree.\n",
    "\n",
    "Return the merged tree."
   ]
  },
  {
   "cell_type": "code",
   "execution_count": null,
   "metadata": {},
   "outputs": [],
   "source": [
    "# Definition for a binary tree node.\n",
    "# class TreeNode:\n",
    "#     def __init__(self, val=0, left=None, right=None):\n",
    "#         self.val = val\n",
    "#         self.left = left\n",
    "#         self.right = right\n",
    "class Solution:\n",
    "    def mergeTrees(self, root1: Optional[TreeNode], root2: Optional[TreeNode]) -> Optional[TreeNode]:\n",
    "        if root1 or root2:\n",
    "            mergedTree = TreeNode()\n",
    "            self.mergeTree(root1,root2,mergedTree)\n",
    "            return mergedTree\n",
    "        else:\n",
    "            return None\n",
    "    def mergeTree(self, root1, root2, dest):\n",
    "        if root1:\n",
    "            dest.val += root1.val\n",
    "        if root2:\n",
    "            dest.val += root2.val\n",
    "        if (root1 and root1.left) or (root2 and root2.left):\n",
    "            dest.left = TreeNode()\n",
    "            self.mergeTree(root1.left if (root1 and root1.left) else None,root2.left if (root2 and root2.left) else None,dest.left)\n",
    "        if (root1 and root1.right) or (root2 and root2.right):\n",
    "            dest.right = TreeNode()\n",
    "            self.mergeTree(root1.right if (root1 and root1.right) else None,root2.right if (root2 and root2.right) else None,dest.right)"
   ]
  }
 ],
 "metadata": {
  "kernelspec": {
   "display_name": "Python 3.9.12 ('base')",
   "language": "python",
   "name": "python3"
  },
  "language_info": {
   "name": "python",
   "version": "3.9.12"
  },
  "orig_nbformat": 4,
  "vscode": {
   "interpreter": {
    "hash": "c3108f0eb53a8b68eb4132aec50c5cd9cd32243b94aaa2255ce7d2c62f93cae5"
   }
  }
 },
 "nbformat": 4,
 "nbformat_minor": 2
}
