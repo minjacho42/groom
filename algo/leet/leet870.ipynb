{
 "cells": [
  {
   "cell_type": "markdown",
   "metadata": {},
   "source": [
    "<h2>870.Advantage Shuffle</h2>\n",
    "<div><p>You are given two integer arrays <code>nums1</code> and <code>nums2</code> both of the same length. The <strong>advantage</strong> of <code>nums1</code> with respect to <code>nums2</code> is the number of indices <code>i</code> for which <code>nums1[i] &gt; nums2[i]</code>.</p>\n",
    "\n",
    "<p>Return <em>any permutation of </em><code>nums1</code><em> that maximizes its <strong>advantage</strong> with respect to </em><code>nums2</code>.</p>\n",
    "\n",
    "<p>&nbsp;</p>\n",
    "<p><strong>Example 1:</strong></p>\n",
    "<pre><strong>Input:</strong> nums1 = [2,7,11,15], nums2 = [1,10,4,11]\n",
    "<strong>Output:</strong> [2,11,7,15]\n",
    "</pre><p><strong>Example 2:</strong></p>\n",
    "<pre><strong>Input:</strong> nums1 = [12,24,8,32], nums2 = [13,25,32,11]\n",
    "<strong>Output:</strong> [24,32,8,12]\n",
    "</pre>\n",
    "<p>&nbsp;</p>\n",
    "<p><strong>Constraints:</strong></p>\n",
    "\n",
    "<ul>\n",
    "\t<li><code>1 &lt;= nums1.length &lt;= 10<sup>5</sup></code></li>\n",
    "\t<li><code>nums2.length == nums1.length</code></li>\n",
    "\t<li><code>0 &lt;= nums1[i], nums2[i] &lt;= 10<sup>9</sup></code></li>\n",
    "</ul>\n",
    "</div>"
   ]
  },
  {
   "cell_type": "code",
   "execution_count": null,
   "metadata": {},
   "outputs": [],
   "source": [
    "class Solution:\n",
    "    def advantageCount(self, nums1: List[int], nums2: List[int]) -> List[int]:\n",
    "        n2 = iter(sorted(list(enumerate(nums2)),key = lambda x : x[1]))\n",
    "        n1 = sorted(nums1)\n",
    "        out = []\n",
    "        left = []\n",
    "        k,v = next(n2)\n",
    "        for n in n1:\n",
    "            if n>v:\n",
    "                out.append((k,n))\n",
    "                try:\n",
    "                    k,v = next(n2)\n",
    "                except StopIteration:\n",
    "                    break\n",
    "            else:\n",
    "                left.append(n)\n",
    "        if left:\n",
    "            for n in left:\n",
    "                out.append((k,n))\n",
    "                try:\n",
    "                    k,v = next(n2)\n",
    "                except StopIteration:\n",
    "                    break\n",
    "        result = sorted(out,key = lambda x: x[0])\n",
    "        result = dict(result)\n",
    "        return list(result.values())"
   ]
  }
 ],
 "metadata": {
  "kernelspec": {
   "display_name": "Python 3.9.12 ('base')",
   "language": "python",
   "name": "python3"
  },
  "language_info": {
   "codemirror_mode": {
    "name": "ipython",
    "version": 3
   },
   "file_extension": ".py",
   "mimetype": "text/x-python",
   "name": "python",
   "nbconvert_exporter": "python",
   "pygments_lexer": "ipython3",
   "version": "3.9.12"
  },
  "orig_nbformat": 4,
  "vscode": {
   "interpreter": {
    "hash": "c3108f0eb53a8b68eb4132aec50c5cd9cd32243b94aaa2255ce7d2c62f93cae5"
   }
  }
 },
 "nbformat": 4,
 "nbformat_minor": 2
}
