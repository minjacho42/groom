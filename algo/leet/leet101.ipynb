{
 "cells": [
  {
   "cell_type": "markdown",
   "metadata": {},
   "source": [
    "<h2>101.Symmetric Tree</h2>\n",
    "<div><p>Given the <code>root</code> of a binary tree, <em>check whether it is a mirror of itself</em> (i.e., symmetric around its center).</p>\n",
    "\n",
    "<p>&nbsp;</p>\n",
    "<p><strong>Example 1:</strong></p>\n",
    "<img alt=\"\" src=\"https://assets.leetcode.com/uploads/2021/02/19/symtree1.jpg\" style=\"width: 354px; height: 291px;\">\n",
    "<pre><strong>Input:</strong> root = [1,2,2,3,4,4,3]\n",
    "<strong>Output:</strong> true\n",
    "</pre>\n",
    "\n",
    "<p><strong>Example 2:</strong></p>\n",
    "<img alt=\"\" src=\"https://assets.leetcode.com/uploads/2021/02/19/symtree2.jpg\" style=\"width: 308px; height: 258px;\">\n",
    "<pre><strong>Input:</strong> root = [1,2,2,null,3,null,3]\n",
    "<strong>Output:</strong> false\n",
    "</pre>\n",
    "\n",
    "<p>&nbsp;</p>\n",
    "<p><strong>Constraints:</strong></p>\n",
    "\n",
    "<ul>\n",
    "\t<li>The number of nodes in the tree is in the range <code>[1, 1000]</code>.</li>\n",
    "\t<li><code>-100 &lt;= Node.val &lt;= 100</code></li>\n",
    "</ul>\n",
    "\n",
    "<p>&nbsp;</p>\n",
    "<strong>Follow up:</strong> Could you solve it both recursively and iteratively?</div>"
   ]
  },
  {
   "cell_type": "code",
   "execution_count": null,
   "metadata": {},
   "outputs": [],
   "source": [
    "class TreeNode:\n",
    "    def __init__(self, val=0, left=None, right=None):\n",
    "        self.val = val\n",
    "        self.left = left\n",
    "        self.right = right\n",
    "# 31 ms\t14 MB\n",
    "class Solution:\n",
    "    def compNode(self,left,right):\n",
    "        if not left or not right:\n",
    "            if left != right:\n",
    "                return False\n",
    "            else:\n",
    "                return True\n",
    "        if left.val == right.val:\n",
    "            return self.compNode(left.left,right.right) and self.compNode(left.right,right.left)\n",
    "    def isSymmetric(self, root) -> bool:\n",
    "        return self.compNode(root.left,root.right)"
   ]
  }
 ],
 "metadata": {
  "kernelspec": {
   "display_name": "Python 3.9.12 ('base')",
   "language": "python",
   "name": "python3"
  },
  "language_info": {
   "codemirror_mode": {
    "name": "ipython",
    "version": 3
   },
   "file_extension": ".py",
   "mimetype": "text/x-python",
   "name": "python",
   "nbconvert_exporter": "python",
   "pygments_lexer": "ipython3",
   "version": "3.9.12"
  },
  "orig_nbformat": 4,
  "vscode": {
   "interpreter": {
    "hash": "c3108f0eb53a8b68eb4132aec50c5cd9cd32243b94aaa2255ce7d2c62f93cae5"
   }
  }
 },
 "nbformat": 4,
 "nbformat_minor": 2
}
