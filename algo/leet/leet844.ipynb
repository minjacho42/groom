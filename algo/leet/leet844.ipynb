{
 "cells": [
  {
   "cell_type": "markdown",
   "metadata": {},
   "source": [
    "<h2>844. Backspace String Compare</h2>\n",
    "<div><p>Given two strings <code>s</code> and <code>t</code>, return <code>true</code> <em>if they are equal when both are typed into empty text editors</em>. <code>'#'</code> means a backspace character.</p>\n",
    "\n",
    "<p>Note that after backspacing an empty text, the text will continue empty.</p>\n",
    "\n",
    "<p>&nbsp;</p>\n",
    "<p><strong>Example 1:</strong></p>\n",
    "\n",
    "<pre><strong>Input:</strong> s = \"ab#c\", t = \"ad#c\"\n",
    "<strong>Output:</strong> true\n",
    "<strong>Explanation:</strong> Both s and t become \"ac\".\n",
    "</pre>\n",
    "\n",
    "<p><strong>Example 2:</strong></p>\n",
    "\n",
    "<pre><strong>Input:</strong> s = \"ab##\", t = \"c#d#\"\n",
    "<strong>Output:</strong> true\n",
    "<strong>Explanation:</strong> Both s and t become \"\".\n",
    "</pre>\n",
    "\n",
    "<p><strong>Example 3:</strong></p>\n",
    "\n",
    "<pre><strong>Input:</strong> s = \"a#c\", t = \"b\"\n",
    "<strong>Output:</strong> false\n",
    "<strong>Explanation:</strong> s becomes \"c\" while t becomes \"b\".\n",
    "</pre>\n",
    "\n",
    "<p>&nbsp;</p>\n",
    "<p><strong>Constraints:</strong></p>\n",
    "\n",
    "<ul>\n",
    "\t<li><code><span>1 &lt;= s.length, t.length &lt;= 200</span></code></li>\n",
    "\t<li><span><code>s</code> and <code>t</code> only contain lowercase letters and <code>'#'</code> characters.</span></li>\n",
    "</ul>\n",
    "\n",
    "<p>&nbsp;</p>\n",
    "<p><strong>Follow up:</strong> Can you solve it in <code>O(n)</code> time and <code>O(1)</code> space?</p>\n",
    "</div>"
   ]
  },
  {
   "cell_type": "code",
   "execution_count": null,
   "metadata": {},
   "outputs": [],
   "source": [
    "# 42 ms\t13.9 MB\n",
    "class Solution:\n",
    "    def backspaceCompare(self, s: str, t: str) -> bool:\n",
    "        tmp_s, tmp_t = '',''\n",
    "        for c in s:\n",
    "            if c == '#':\n",
    "                if tmp_s:\n",
    "                    tmp_s = tmp_s[:-1]\n",
    "            else:\n",
    "                tmp_s += c\n",
    "        for c in t:\n",
    "            if c == '#':\n",
    "                if tmp_t:\n",
    "                    tmp_t = tmp_t[:-1]\n",
    "            else:\n",
    "                tmp_t += c\n",
    "        return tmp_s==tmp_t"
   ]
  }
 ],
 "metadata": {
  "language_info": {
   "name": "python"
  },
  "orig_nbformat": 4
 },
 "nbformat": 4,
 "nbformat_minor": 2
}
