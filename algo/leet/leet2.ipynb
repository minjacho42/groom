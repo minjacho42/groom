{
 "cells": [
  {
   "cell_type": "markdown",
   "metadata": {},
   "source": [
    "<h2>2.Add Two Numbers</h2>\n",
    "<div><p>You are given two <strong>non-empty</strong> linked lists representing two non-negative integers. The digits are stored in <strong>reverse order</strong>, and each of their nodes contains a single digit. Add the two numbers and return the sum&nbsp;as a linked list.</p>\n",
    "\n",
    "<p>You may assume the two numbers do not contain any leading zero, except the number 0 itself.</p>\n",
    "\n",
    "<p>&nbsp;</p>\n",
    "<p><strong>Example 1:</strong></p>\n",
    "<img alt=\"\" src=\"https://assets.leetcode.com/uploads/2020/10/02/addtwonumber1.jpg\" style=\"width: 483px; height: 342px;\">\n",
    "<pre><strong>Input:</strong> l1 = [2,4,3], l2 = [5,6,4]\n",
    "<strong>Output:</strong> [7,0,8]\n",
    "<strong>Explanation:</strong> 342 + 465 = 807.\n",
    "</pre>\n",
    "\n",
    "<p><strong>Example 2:</strong></p>\n",
    "\n",
    "<pre><strong>Input:</strong> l1 = [0], l2 = [0]\n",
    "<strong>Output:</strong> [0]\n",
    "</pre>\n",
    "\n",
    "<p><strong>Example 3:</strong></p>\n",
    "\n",
    "<pre><strong>Input:</strong> l1 = [9,9,9,9,9,9,9], l2 = [9,9,9,9]\n",
    "<strong>Output:</strong> [8,9,9,9,0,0,0,1]\n",
    "</pre>\n",
    "\n",
    "<p>&nbsp;</p>\n",
    "<p><strong>Constraints:</strong></p>\n",
    "\n",
    "<ul>\n",
    "\t<li>The number of nodes in each linked list is in the range <code>[1, 100]</code>.</li>\n",
    "\t<li><code>0 &lt;= Node.val &lt;= 9</code></li>\n",
    "\t<li>It is guaranteed that the list represents a number that does not have leading zeros.</li>\n",
    "</ul>\n",
    "</div>"
   ]
  },
  {
   "cell_type": "code",
   "execution_count": null,
   "metadata": {},
   "outputs": [],
   "source": [
    "# 77 ms\t13.9 MB\n",
    "class Solution:\n",
    "    def addTwoNumbers(self, l1: Optional[ListNode], l2: Optional[ListNode]) -> Optional[ListNode]:\n",
    "        if not l1:\n",
    "            return l2\n",
    "        if not l2:\n",
    "            return l1\n",
    "        up = 0\n",
    "        ptr = ListNode()\n",
    "        out = ptr\n",
    "        ptr1, ptr2 = l1, l2\n",
    "        while ptr1 or ptr2:\n",
    "            v1 = ptr1.val if ptr1 else 0\n",
    "            v2 = ptr2.val if ptr2 else 0\n",
    "            up, val = (v1+v2+up)//10, (v1+v2+up)%10\n",
    "            ptr.next = ListNode(val)\n",
    "            ptr = ptr.next\n",
    "            ptr1 = ptr1.next if ptr1 else None\n",
    "            ptr2 = ptr2.next if ptr2 else None\n",
    "        if up > 0:\n",
    "            ptr.next = ListNode(up)\n",
    "        return out.next"
   ]
  }
 ],
 "metadata": {
  "language_info": {
   "name": "python"
  },
  "orig_nbformat": 4
 },
 "nbformat": 4,
 "nbformat_minor": 2
}
