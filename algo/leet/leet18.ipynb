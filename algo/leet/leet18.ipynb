{
 "cells": [
  {
   "cell_type": "markdown",
   "metadata": {},
   "source": [
    "<h2>18. 4sum</h2>\n",
    "<div><p>Given an array <code>nums</code> of <code>n</code> integers, return <em>an array of all the <strong>unique</strong> quadruplets</em> <code>[nums[a], nums[b], nums[c], nums[d]]</code> such that:</p>\n",
    "\n",
    "<ul>\n",
    "\t<li><code>0 &lt;= a, b, c, d&nbsp;&lt; n</code></li>\n",
    "\t<li><code>a</code>, <code>b</code>, <code>c</code>, and <code>d</code> are <strong>distinct</strong>.</li>\n",
    "\t<li><code>nums[a] + nums[b] + nums[c] + nums[d] == target</code></li>\n",
    "</ul>\n",
    "\n",
    "<p>You may return the answer in <strong>any order</strong>.</p>\n",
    "\n",
    "<p>&nbsp;</p>\n",
    "<p><strong>Example 1:</strong></p>\n",
    "\n",
    "<pre><strong>Input:</strong> nums = [1,0,-1,0,-2,2], target = 0\n",
    "<strong>Output:</strong> [[-2,-1,1,2],[-2,0,0,2],[-1,0,0,1]]\n",
    "</pre>\n",
    "\n",
    "<p><strong>Example 2:</strong></p>\n",
    "\n",
    "<pre><strong>Input:</strong> nums = [2,2,2,2,2], target = 8\n",
    "<strong>Output:</strong> [[2,2,2,2]]\n",
    "</pre>\n",
    "\n",
    "<p>&nbsp;</p>\n",
    "<p><strong>Constraints:</strong></p>\n",
    "\n",
    "<ul>\n",
    "\t<li><code>1 &lt;= nums.length &lt;= 200</code></li>\n",
    "\t<li><code>-10<sup>9</sup> &lt;= nums[i] &lt;= 10<sup>9</sup></code></li>\n",
    "\t<li><code>-10<sup>9</sup> &lt;= target &lt;= 10<sup>9</sup></code></li>\n",
    "</ul>\n",
    "</div>"
   ]
  },
  {
   "cell_type": "code",
   "execution_count": null,
   "metadata": {},
   "outputs": [],
   "source": [
    "# 1567 ms 14.1 MB\n",
    "#https://youtu.be/EYeR-_1NRlQ\n",
    "class Solution:\n",
    "    def fourSum(self, nums: List[int], target: int) -> List[List[int]]:\n",
    "        numSorted = sorted(nums)\n",
    "        out = set()\n",
    "        def recur(k, index, target, result):\n",
    "            if k == 2:\n",
    "                left, right = index, len(numSorted)-1\n",
    "                while left<right:\n",
    "                    if numSorted[left]+numSorted[right] == target:\n",
    "                        out.add(tuple(sorted(result + [numSorted[left],numSorted[right]])))\n",
    "                        right -= 1\n",
    "                        left += 1\n",
    "                    elif numSorted[left]+numSorted[right] > target:\n",
    "                        right -= 1\n",
    "                    else:\n",
    "                        left += 1\n",
    "            else:\n",
    "                for i in range(index,len(numSorted)-k+1):\n",
    "                    recur(k-1,i+1,target - numSorted[i], result+[numSorted[i]])\n",
    "        recur(4,0,target,[])\n",
    "        return out"
   ]
  }
 ],
 "metadata": {
  "kernelspec": {
   "display_name": "Python 3.8.10 64-bit",
   "language": "python",
   "name": "python3"
  },
  "language_info": {
   "name": "python",
   "version": "3.8.10"
  },
  "orig_nbformat": 4,
  "vscode": {
   "interpreter": {
    "hash": "916dbcbb3f70747c44a77c7bcd40155683ae19c65e1c03b4aa3499c5328201f1"
   }
  }
 },
 "nbformat": 4,
 "nbformat_minor": 2
}
