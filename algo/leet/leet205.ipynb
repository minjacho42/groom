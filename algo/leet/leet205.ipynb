{
 "cells": [
  {
   "cell_type": "markdown",
   "metadata": {},
   "source": [
    "<h2>205.Isomorphic Strings</h2>\n",
    "<div><p>Given two strings <code>s</code> and <code>t</code>, <em>determine if they are isomorphic</em>.</p>\n",
    "\n",
    "<p>Two strings <code>s</code> and <code>t</code> are isomorphic if the characters in <code>s</code> can be replaced to get <code>t</code>.</p>\n",
    "\n",
    "<p>All occurrences of a character must be replaced with another character while preserving the order of characters. No two characters may map to the same character, but a character may map to itself.</p>\n",
    "\n",
    "<p>&nbsp;</p>\n",
    "<p><strong>Example 1:</strong></p>\n",
    "<pre><strong>Input:</strong> s = \"egg\", t = \"add\"\n",
    "<strong>Output:</strong> true\n",
    "</pre><p><strong>Example 2:</strong></p>\n",
    "<pre><strong>Input:</strong> s = \"foo\", t = \"bar\"\n",
    "<strong>Output:</strong> false\n",
    "</pre><p><strong>Example 3:</strong></p>\n",
    "<pre><strong>Input:</strong> s = \"paper\", t = \"title\"\n",
    "<strong>Output:</strong> true\n",
    "</pre>\n",
    "<p>&nbsp;</p>\n",
    "<p><strong>Constraints:</strong></p>\n",
    "\n",
    "<ul>\n",
    "\t<li><code>1 &lt;= s.length &lt;= 5 * 10<sup>4</sup></code></li>\n",
    "\t<li><code>t.length == s.length</code></li>\n",
    "\t<li><code>s</code> and <code>t</code> consist of any valid ascii character.</li>\n",
    "</ul>\n",
    "</div>"
   ]
  },
  {
   "cell_type": "code",
   "execution_count": null,
   "metadata": {},
   "outputs": [],
   "source": [
    "class Solution:\n",
    "    def isIsomorphic(self, s: str, t: str) -> bool:\n",
    "        dictt = dict()\n",
    "        ismp = []\n",
    "        for c in s:\n",
    "            if c not in dictt:\n",
    "                dictt[c] = len(dictt)\n",
    "            ismp.append(dictt[c])\n",
    "        dictt = {}\n",
    "        for c, i in zip(t, ismp):\n",
    "            if c not in dictt:\n",
    "                dictt[c] = len(dictt)\n",
    "            if i != dictt[c]:\n",
    "                return False\n",
    "        else:\n",
    "            return True"
   ]
  }
 ],
 "metadata": {
  "kernelspec": {
   "display_name": "Python 3.8.10 64-bit",
   "language": "python",
   "name": "python3"
  },
  "language_info": {
   "name": "python",
   "version": "3.8.10"
  },
  "orig_nbformat": 4,
  "vscode": {
   "interpreter": {
    "hash": "916dbcbb3f70747c44a77c7bcd40155683ae19c65e1c03b4aa3499c5328201f1"
   }
  }
 },
 "nbformat": 4,
 "nbformat_minor": 2
}
