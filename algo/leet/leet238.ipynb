{
 "cells": [
  {
   "cell_type": "markdown",
   "metadata": {},
   "source": [
    "## 238. Product of Array Except Self"
   ]
  },
  {
   "cell_type": "markdown",
   "metadata": {},
   "source": [
    "<div class=\"content__u3I1 question-content__JfgR\"><div><p>Given an integer array <code>nums</code>, return <em>an array</em> <code>answer</code> <em>such that</em> <code>answer[i]</code> <em>is equal to the product of all the elements of</em> <code>nums</code> <em>except</em> <code>nums[i]</code>.</p>\n",
    "\n",
    "<p>The product of any prefix or suffix of <code>nums</code> is <strong>guaranteed</strong> to fit in a <strong>32-bit</strong> integer.</p>\n",
    "\n",
    "<p>You must write an algorithm that runs in&nbsp;<code>O(n)</code>&nbsp;time and without using the division operation.</p>\n",
    "\n",
    "<p>&nbsp;</p>\n",
    "<p><strong>Example 1:</strong></p>\n",
    "<pre><strong>Input:</strong> nums = [1,2,3,4]\n",
    "<strong>Output:</strong> [24,12,8,6]\n",
    "</pre><p><strong>Example 2:</strong></p>\n",
    "<pre><strong>Input:</strong> nums = [-1,1,0,-3,3]\n",
    "<strong>Output:</strong> [0,0,9,0,0]\n",
    "</pre>\n",
    "<p>&nbsp;</p>\n",
    "<p><strong>Constraints:</strong></p>\n",
    "\n",
    "<ul>\n",
    "\t<li><code>2 &lt;= nums.length &lt;= 10<sup>5</sup></code></li>\n",
    "\t<li><code>-30 &lt;= nums[i] &lt;= 30</code></li>\n",
    "\t<li>The product of any prefix or suffix of <code>nums</code> is <strong>guaranteed</strong> to fit in a <strong>32-bit</strong> integer.</li>\n",
    "</ul>\n",
    "\n",
    "<p>&nbsp;</p>\n",
    "<p><strong>Follow up:</strong>&nbsp;Can you solve the problem in <code>O(1)&nbsp;</code>extra&nbsp;space complexity? (The output array <strong>does not</strong> count as extra space for space complexity analysis.)</p>\n",
    "</div></div>"
   ]
  },
  {
   "cell_type": "code",
   "execution_count": null,
   "metadata": {},
   "outputs": [],
   "source": [
    "# Runtime:307 ms Memory:94.7 MB Big-O:O(n)\n",
    "class Solution:\n",
    "    def productExceptSelf(self, nums: List[int]) -> List[int]:\n",
    "        out = [0 for _ in range(len(nums))]\n",
    "        self.DFS(nums,out,0,1)\n",
    "        return out\n",
    "    def DFS(self,nums,out,index,pre):\n",
    "        if index == len(nums)-1:\n",
    "            out[index] = pre\n",
    "            return nums[index]\n",
    "        else:\n",
    "            post = self.DFS(nums,out,index+1,pre*nums[index])\n",
    "            out[index] = pre*post\n",
    "            return nums[index]*post"
   ]
  }
 ],
 "metadata": {
  "kernelspec": {
   "display_name": "Python 3.9.12 ('base')",
   "language": "python",
   "name": "python3"
  },
  "language_info": {
   "name": "python",
   "version": "3.9.12"
  },
  "orig_nbformat": 4,
  "vscode": {
   "interpreter": {
    "hash": "c3108f0eb53a8b68eb4132aec50c5cd9cd32243b94aaa2255ce7d2c62f93cae5"
   }
  }
 },
 "nbformat": 4,
 "nbformat_minor": 2
}
