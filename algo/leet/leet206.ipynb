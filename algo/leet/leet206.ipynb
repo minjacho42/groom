{
 "cells": [
  {
   "cell_type": "markdown",
   "metadata": {},
   "source": [
    "## 206. Reverse Linked List\n",
    "Given the head of a singly linked list, reverse the list, and return the reversed list.\n",
    "\n",
    "https://leetcode.com/problems/reverse-linked-list/"
   ]
  },
  {
   "cell_type": "code",
   "execution_count": null,
   "metadata": {},
   "outputs": [],
   "source": [
    "# Definition for singly-linked list.\n",
    "class ListNode:\n",
    "    def __init__(self, val=0, next=None):\n",
    "        self.val = val\n",
    "        self.next = next\n",
    "from collections import deque\n",
    "class Solution:\n",
    "    def reverseList(self, head):\n",
    "        if not head:\n",
    "            return None\n",
    "        ptr = ListNode(0,head)\n",
    "        stack = deque()\n",
    "        while ptr.next:\n",
    "            ptr = ptr.next\n",
    "            stack.append(ptr.val)\n",
    "        newHead = ListNode(stack.pop())\n",
    "        result = ListNode(0,newHead)\n",
    "        ptr = newHead\n",
    "        while len(stack) > 0:\n",
    "            ptr.next = ListNode(stack.pop())\n",
    "            ptr = ptr.next\n",
    "        return result.next\n",
    "        "
   ]
  }
 ],
 "metadata": {
  "kernelspec": {
   "display_name": "Python 3.9.12 ('base')",
   "language": "python",
   "name": "python3"
  },
  "language_info": {
   "name": "python",
   "version": "3.9.12"
  },
  "orig_nbformat": 4,
  "vscode": {
   "interpreter": {
    "hash": "c3108f0eb53a8b68eb4132aec50c5cd9cd32243b94aaa2255ce7d2c62f93cae5"
   }
  }
 },
 "nbformat": 4,
 "nbformat_minor": 2
}
