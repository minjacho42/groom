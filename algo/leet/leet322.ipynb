{
 "cells": [
  {
   "cell_type": "markdown",
   "metadata": {},
   "source": [
    "<h2>322. Coin Change</h2>\n",
    "<div><p>You are given an integer array <code>coins</code> representing coins of different denominations and an integer <code>amount</code> representing a total amount of money.</p>\n",
    "\n",
    "<p>Return <em>the fewest number of coins that you need to make up that amount</em>. If that amount of money cannot be made up by any combination of the coins, return <code>-1</code>.</p>\n",
    "\n",
    "<p>You may assume that you have an infinite number of each kind of coin.</p>\n",
    "\n",
    "<p>&nbsp;</p>\n",
    "<p><strong>Example 1:</strong></p>\n",
    "\n",
    "<pre><strong>Input:</strong> coins = [1,2,5], amount = 11\n",
    "<strong>Output:</strong> 3\n",
    "<strong>Explanation:</strong> 11 = 5 + 5 + 1\n",
    "</pre>\n",
    "\n",
    "<p><strong>Example 2:</strong></p>\n",
    "\n",
    "<pre><strong>Input:</strong> coins = [2], amount = 3\n",
    "<strong>Output:</strong> -1\n",
    "</pre>\n",
    "\n",
    "<p><strong>Example 3:</strong></p>\n",
    "\n",
    "<pre><strong>Input:</strong> coins = [1], amount = 0\n",
    "<strong>Output:</strong> 0\n",
    "</pre>\n",
    "\n",
    "<p>&nbsp;</p>\n",
    "<p><strong>Constraints:</strong></p>\n",
    "\n",
    "<ul>\n",
    "\t<li><code>1 &lt;= coins.length &lt;= 12</code></li>\n",
    "\t<li><code>1 &lt;= coins[i] &lt;= 2<sup>31</sup> - 1</code></li>\n",
    "\t<li><code>0 &lt;= amount &lt;= 10<sup>4</sup></code></li>\n",
    "</ul>\n",
    "</div>"
   ]
  },
  {
   "cell_type": "code",
   "execution_count": null,
   "metadata": {},
   "outputs": [],
   "source": [
    "#\t2200 ms\t14.8 MB\n",
    "from collections import deque\n",
    "class Solution:\n",
    "    def coinChange(self, coins: List[int], amount: int) -> int:\n",
    "        if amount == 0:\n",
    "            return 0\n",
    "        if min(coins) > amount:\n",
    "            return -1\n",
    "        dp = {}\n",
    "        dp[0] = 0\n",
    "        for i in range(min(coins),amount+1):\n",
    "            n = -1\n",
    "            for coin in coins:\n",
    "                if coin <= i:\n",
    "                    if i-coin in dp:\n",
    "                        if n<0:\n",
    "                            n = dp[i-coin]+1\n",
    "                        else:\n",
    "                            n = min(n,dp[i-coin]+1)\n",
    "            if n > -1:\n",
    "                dp[i] = n\n",
    "        return dp[amount] if amount in dp else -1"
   ]
  }
 ],
 "metadata": {
  "language_info": {
   "name": "python"
  },
  "orig_nbformat": 4
 },
 "nbformat": 4,
 "nbformat_minor": 2
}
