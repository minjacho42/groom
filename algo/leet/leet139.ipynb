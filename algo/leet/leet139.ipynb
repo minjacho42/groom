{
 "cells": [
  {
   "cell_type": "markdown",
   "metadata": {},
   "source": [
    "<h2>139. Word Break</h2>\n",
    "<div><p>Given a string <code>s</code> and a dictionary of strings <code>wordDict</code>, return <code>true</code> if <code>s</code> can be segmented into a space-separated sequence of one or more dictionary words.</p>\n",
    "\n",
    "<p><strong>Note</strong> that the same word in the dictionary may be reused multiple times in the segmentation.</p>\n",
    "\n",
    "<p>&nbsp;</p>\n",
    "<p><strong>Example 1:</strong></p>\n",
    "\n",
    "<pre><strong>Input:</strong> s = \"leetcode\", wordDict = [\"leet\",\"code\"]\n",
    "<strong>Output:</strong> true\n",
    "<strong>Explanation:</strong> Return true because \"leetcode\" can be segmented as \"leet code\".\n",
    "</pre>\n",
    "\n",
    "<p><strong>Example 2:</strong></p>\n",
    "\n",
    "<pre><strong>Input:</strong> s = \"applepenapple\", wordDict = [\"apple\",\"pen\"]\n",
    "<strong>Output:</strong> true\n",
    "<strong>Explanation:</strong> Return true because \"applepenapple\" can be segmented as \"apple pen apple\".\n",
    "Note that you are allowed to reuse a dictionary word.\n",
    "</pre>\n",
    "\n",
    "<p><strong>Example 3:</strong></p>\n",
    "\n",
    "<pre><strong>Input:</strong> s = \"catsandog\", wordDict = [\"cats\",\"dog\",\"sand\",\"and\",\"cat\"]\n",
    "<strong>Output:</strong> false\n",
    "</pre>\n",
    "\n",
    "<p>&nbsp;</p>\n",
    "<p><strong>Constraints:</strong></p>\n",
    "\n",
    "<ul>\n",
    "\t<li><code>1 &lt;= s.length &lt;= 300</code></li>\n",
    "\t<li><code>1 &lt;= wordDict.length &lt;= 1000</code></li>\n",
    "\t<li><code>1 &lt;= wordDict[i].length &lt;= 20</code></li>\n",
    "\t<li><code>s</code> and <code>wordDict[i]</code> consist of only lowercase English letters.</li>\n",
    "\t<li>All the strings of <code>wordDict</code> are <strong>unique</strong>.</li>\n",
    "</ul>\n",
    "</div>"
   ]
  },
  {
   "cell_type": "code",
   "execution_count": null,
   "metadata": {},
   "outputs": [],
   "source": [
    "# 55 ms\t13.9 MB\n",
    "class Solution:\n",
    "    def __init__(self):\n",
    "        dp = list()\n",
    "    def wordBreak(self, s: str, wordDict: List[str]) -> bool:\n",
    "        wordset = set(wordDict)\n",
    "        self.dp = [False for _ in range(len(s)+1)]\n",
    "        self.dp[len(s)] = True\n",
    "        for i in range(len(s)-1,-1,-1):\n",
    "            for j in range(len(s),i,-1):\n",
    "                if s[i:j] in wordset and self.dp[j]:\n",
    "                    self.dp[i] = True\n",
    "                    break\n",
    "        return self.dp[0]"
   ]
  }
 ],
 "metadata": {
  "language_info": {
   "name": "python"
  },
  "orig_nbformat": 4
 },
 "nbformat": 4,
 "nbformat_minor": 2
}
