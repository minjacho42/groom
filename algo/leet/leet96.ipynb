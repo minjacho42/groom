{
 "cells": [
  {
   "cell_type": "markdown",
   "metadata": {},
   "source": [
    "<h2>96. Unique Binary Search Trees</h2>\n",
    "<div><p>Given an integer <code>n</code>, return <em>the number of structurally unique <strong>BST'</strong>s (binary search trees) which has exactly </em><code>n</code><em> nodes of unique values from</em> <code>1</code> <em>to</em> <code>n</code>.</p>\n",
    "\n",
    "<p>&nbsp;</p>\n",
    "<p><strong>Example 1:</strong></p>\n",
    "<img alt=\"\" src=\"https://assets.leetcode.com/uploads/2021/01/18/uniquebstn3.jpg\" style=\"width: 600px; height: 148px;\">\n",
    "<pre><strong>Input:</strong> n = 3\n",
    "<strong>Output:</strong> 5\n",
    "</pre>\n",
    "\n",
    "<p><strong>Example 2:</strong></p>\n",
    "\n",
    "<pre><strong>Input:</strong> n = 1\n",
    "<strong>Output:</strong> 1\n",
    "</pre>\n",
    "\n",
    "<p>&nbsp;</p>\n",
    "<p><strong>Constraints:</strong></p>\n",
    "\n",
    "<ul>\n",
    "\t<li><code>1 &lt;= n &lt;= 19</code></li>\n",
    "</ul>\n",
    "</div>"
   ]
  },
  {
   "cell_type": "code",
   "execution_count": null,
   "metadata": {},
   "outputs": [],
   "source": [
    "# 31 ms\t13.8 MB\n",
    "class Solution:\n",
    "    out = {0:1,1:1,2:2}\n",
    "    def numTrees(self, n: int) -> int:\n",
    "        if n in Solution.out:\n",
    "            return Solution.out[n]\n",
    "        else:\n",
    "            output = 0\n",
    "            for i in range(n):\n",
    "                if i not in Solution.out:\n",
    "                    Solution.out[i] = self.numTrees(i)\n",
    "                left = Solution.out[i]\n",
    "                if n-(i+1) not in Solution.out:\n",
    "                    Solution.out[n-(i+1)] = self.numTrees(n-(i+1))\n",
    "                right = Solution.out[n-(i+1)]\n",
    "                output += left*right\n",
    "            Solution.out[n] = output\n",
    "            return output"
   ]
  }
 ],
 "metadata": {
  "language_info": {
   "name": "python"
  },
  "orig_nbformat": 4
 },
 "nbformat": 4,
 "nbformat_minor": 2
}
