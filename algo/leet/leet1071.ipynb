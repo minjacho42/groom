{
 "cells": [
  {
   "cell_type": "markdown",
   "metadata": {},
   "source": [
    "<h2>1071.Greatest Common Divisor of Strings</h2>\n",
    "<div><p>For two strings <code>s</code> and <code>t</code>, we say \"<code>t</code> divides <code>s</code>\" if and only if <code>s = t + ... + t</code> (i.e., <code>t</code> is concatenated with itself one or more times).</p>\n",
    "\n",
    "<p>Given two strings <code>str1</code> and <code>str2</code>, return <em>the largest string </em><code>x</code><em> such that </em><code>x</code><em> divides both </em><code>str1</code><em> and </em><code>str2</code>.</p>\n",
    "\n",
    "<p>&nbsp;</p>\n",
    "<p><strong>Example 1:</strong></p>\n",
    "\n",
    "<pre><strong>Input:</strong> str1 = \"ABCABC\", str2 = \"ABC\"\n",
    "<strong>Output:</strong> \"ABC\"\n",
    "</pre>\n",
    "\n",
    "<p><strong>Example 2:</strong></p>\n",
    "\n",
    "<pre><strong>Input:</strong> str1 = \"ABABAB\", str2 = \"ABAB\"\n",
    "<strong>Output:</strong> \"AB\"\n",
    "</pre>\n",
    "\n",
    "<p><strong>Example 3:</strong></p>\n",
    "\n",
    "<pre><strong>Input:</strong> str1 = \"LEET\", str2 = \"CODE\"\n",
    "<strong>Output:</strong> \"\"\n",
    "</pre>\n",
    "\n",
    "<p>&nbsp;</p>\n",
    "<p><strong>Constraints:</strong></p>\n",
    "\n",
    "<ul>\n",
    "\t<li><code>1 &lt;= str1.length, str2.length &lt;= 1000</code></li>\n",
    "\t<li><code>str1</code> and <code>str2</code> consist of English uppercase letters.</li>\n",
    "</ul>\n",
    "</div>"
   ]
  },
  {
   "cell_type": "code",
   "execution_count": null,
   "metadata": {},
   "outputs": [],
   "source": [
    "# 35 ms\t13.9 MB\n",
    "class Solution:\n",
    "    def gcdOfStrings(self, str1: str, str2: str) -> str:\n",
    "        min_str = str1 if len(str1)<len(str2) else str2\n",
    "        for n in range(len(min_str),0,-1):\n",
    "            if len(str1)%n != 0 or len(str2)%n != 0:\n",
    "                continue\n",
    "            t = min_str[0:n]\n",
    "            if t*(len(str1)//n) == str1 and t*(len(str2)//n) == str2:\n",
    "                return t\n",
    "        else:\n",
    "            return ''"
   ]
  }
 ],
 "metadata": {
  "language_info": {
   "name": "python"
  },
  "orig_nbformat": 4
 },
 "nbformat": 4,
 "nbformat_minor": 2
}
