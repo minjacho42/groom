{
 "cells": [
  {
   "cell_type": "markdown",
   "metadata": {},
   "source": [
    "<h2>20. Valid Parentheses</h2>\n",
    "<div><p>Given a string <code>s</code> containing just the characters <code>'('</code>, <code>')'</code>, <code>'{'</code>, <code>'}'</code>, <code>'['</code> and <code>']'</code>, determine if the input string is valid.</p>\n",
    "\n",
    "<p>An input string is valid if:</p>\n",
    "\n",
    "<ol>\n",
    "\t<li>Open brackets must be closed by the same type of brackets.</li>\n",
    "\t<li>Open brackets must be closed in the correct order.</li>\n",
    "</ol>\n",
    "\n",
    "<p>&nbsp;</p>\n",
    "<p><strong>Example 1:</strong></p>\n",
    "\n",
    "<pre><strong>Input:</strong> s = \"()\"\n",
    "<strong>Output:</strong> true\n",
    "</pre>\n",
    "\n",
    "<p><strong>Example 2:</strong></p>\n",
    "\n",
    "<pre><strong>Input:</strong> s = \"()[]{}\"\n",
    "<strong>Output:</strong> true\n",
    "</pre>\n",
    "\n",
    "<p><strong>Example 3:</strong></p>\n",
    "\n",
    "<pre><strong>Input:</strong> s = \"(]\"\n",
    "<strong>Output:</strong> false\n",
    "</pre>\n",
    "\n",
    "<p>&nbsp;</p>\n",
    "<p><strong>Constraints:</strong></p>\n",
    "\n",
    "<ul>\n",
    "\t<li><code>1 &lt;= s.length &lt;= 10<sup>4</sup></code></li>\n",
    "\t<li><code>s</code> consists of parentheses only <code>'()[]{}'</code>.</li>\n",
    "</ul>\n",
    "</div>"
   ]
  },
  {
   "cell_type": "code",
   "execution_count": 1,
   "metadata": {},
   "outputs": [],
   "source": [
    "from collections import deque\n",
    "class Solution:\n",
    "    def isValid(self, s: str) -> bool:\n",
    "        stack = deque()\n",
    "        start = set(['(','{','['])\n",
    "        end = set([')','}',']'])\n",
    "        right = ord('(')-ord(')')\n",
    "        for c in s:\n",
    "            if c in start:\n",
    "                stack.append(c)\n",
    "            elif c in end:\n",
    "                if len(stack) == 0:\n",
    "                    return False\n",
    "                cmp = stack.pop()\n",
    "                if (c == ')' and cmp != '(') or (c == '}' and\n",
    "                    cmp != '{') or (c == ']' and cmp != '['):\n",
    "                    return False\n",
    "        else:\n",
    "            if len(stack) != 0:\n",
    "                return False\n",
    "        return True"
   ]
  }
 ],
 "metadata": {
  "kernelspec": {
   "display_name": "Python 3.9.12 ('base')",
   "language": "python",
   "name": "python3"
  },
  "language_info": {
   "codemirror_mode": {
    "name": "ipython",
    "version": 3
   },
   "file_extension": ".py",
   "mimetype": "text/x-python",
   "name": "python",
   "nbconvert_exporter": "python",
   "pygments_lexer": "ipython3",
   "version": "3.9.12"
  },
  "orig_nbformat": 4,
  "vscode": {
   "interpreter": {
    "hash": "c3108f0eb53a8b68eb4132aec50c5cd9cd32243b94aaa2255ce7d2c62f93cae5"
   }
  }
 },
 "nbformat": 4,
 "nbformat_minor": 2
}
