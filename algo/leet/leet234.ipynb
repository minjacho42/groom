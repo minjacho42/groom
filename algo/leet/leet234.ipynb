{
 "cells": [
  {
   "cell_type": "markdown",
   "metadata": {},
   "source": [
    "<h2>234. Palindrome Linked List</h2>\n",
    "<div><p>Given the <code>head</code> of a singly linked list, return <code>true</code> if it is a palindrome.</p>\n",
    "\n",
    "<p>&nbsp;</p>\n",
    "<p><strong>Example 1:</strong></p>\n",
    "<img alt=\"\" src=\"https://assets.leetcode.com/uploads/2021/03/03/pal1linked-list.jpg\" style=\"width: 422px; height: 62px;\">\n",
    "<pre><strong>Input:</strong> head = [1,2,2,1]\n",
    "<strong>Output:</strong> true\n",
    "</pre>\n",
    "\n",
    "<p><strong>Example 2:</strong></p>\n",
    "<img alt=\"\" src=\"https://assets.leetcode.com/uploads/2021/03/03/pal2linked-list.jpg\" style=\"width: 182px; height: 62px;\">\n",
    "<pre><strong>Input:</strong> head = [1,2]\n",
    "<strong>Output:</strong> false\n",
    "</pre>\n",
    "\n",
    "<p>&nbsp;</p>\n",
    "<p><strong>Constraints:</strong></p>\n",
    "\n",
    "<ul>\n",
    "\t<li>The number of nodes in the list is in the range <code>[1, 10<sup>5</sup>]</code>.</li>\n",
    "\t<li><code>0 &lt;= Node.val &lt;= 9</code></li>\n",
    "</ul>\n",
    "\n",
    "<p>&nbsp;</p>\n",
    "<strong>Follow up:</strong> Could you do it in <code>O(n)</code> time and <code>O(1)</code> space?</div>"
   ]
  },
  {
   "cell_type": "code",
   "execution_count": null,
   "metadata": {},
   "outputs": [],
   "source": [
    "# Definition for singly-linked list.\n",
    "# class ListNode:\n",
    "#     def __init__(self, val=0, next=None):\n",
    "#         self.val = val\n",
    "#         self.next = next\n",
    "# 1189 ms\t46.9 MB\n",
    "class Solution:\n",
    "    def isPalindrome(self, head: Optional[ListNode]) -> bool:\n",
    "        d_ptr = head\n",
    "        ptr = head\n",
    "        stack = []\n",
    "        odd = False\n",
    "        while d_ptr:\n",
    "            if d_ptr.next:\n",
    "                d_ptr = d_ptr.next.next\n",
    "            else:\n",
    "                odd = True\n",
    "                break\n",
    "            stack.append(ptr.val)\n",
    "            ptr = ptr.next\n",
    "        if odd:\n",
    "            ptr = ptr.next\n",
    "        while ptr:\n",
    "            val = stack.pop()\n",
    "            if val != ptr.val:\n",
    "                return False\n",
    "            else:\n",
    "                ptr = ptr.next\n",
    "        else:\n",
    "            return True"
   ]
  }
 ],
 "metadata": {
  "language_info": {
   "name": "python"
  },
  "orig_nbformat": 4
 },
 "nbformat": 4,
 "nbformat_minor": 2
}
