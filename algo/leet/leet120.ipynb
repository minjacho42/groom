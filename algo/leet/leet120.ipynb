{
 "cells": [
  {
   "cell_type": "markdown",
   "metadata": {},
   "source": [
    "## 120. Triangle\n",
    "Given a triangle array, return the minimum path sum from top to bottom.\n",
    "\n",
    "For each step, you may move to an adjacent number of the row below. More formally, if you are on index i on the current row, you may move to either index i or index i + 1 on the next row"
   ]
  },
  {
   "cell_type": "code",
   "execution_count": 20,
   "metadata": {},
   "outputs": [],
   "source": [
    "class Solution:\n",
    "    def minimumTotal(self, triangle) -> int:\n",
    "        temp = [0]\n",
    "        for nums in triangle:\n",
    "            #print(temp)\n",
    "            new = []\n",
    "            for i,num in enumerate(nums):\n",
    "                #print(nums,new,i)\n",
    "                if i == 0:\n",
    "                    new.append(num+temp[0])\n",
    "                elif i == len(nums)-1:\n",
    "                    new.append(num+temp[i-1])\n",
    "                else:\n",
    "                    print(temp,i)\n",
    "                    new.append(num+min(temp[i-1],temp[i]))\n",
    "            temp = new\n",
    "        return min(temp)"
   ]
  },
  {
   "cell_type": "code",
   "execution_count": 21,
   "metadata": {},
   "outputs": [
    {
     "name": "stdout",
     "output_type": "stream",
     "text": [
      "[0]\n",
      "[2] [] 0\n",
      "[2]\n",
      "[3, 4] [] 0\n",
      "[3, 4] [5] 1\n",
      "[5, 6]\n",
      "[6, 5, 7] [] 0\n",
      "[6, 5, 7] [11] 1\n",
      "[5, 6] 1\n",
      "[6, 5, 7] [11, 10] 2\n",
      "[11, 10, 13]\n",
      "[4, 1, 8, 3] [] 0\n",
      "[4, 1, 8, 3] [15] 1\n",
      "[11, 10, 13] 1\n",
      "[4, 1, 8, 3] [15, 11] 2\n",
      "[11, 10, 13] 2\n",
      "[4, 1, 8, 3] [15, 11, 18] 3\n"
     ]
    },
    {
     "data": {
      "text/plain": [
       "11"
      ]
     },
     "execution_count": 21,
     "metadata": {},
     "output_type": "execute_result"
    }
   ],
   "source": [
    "sol = Solution()\n",
    "sol.minimumTotal([[2],[3,4],[6,5,7],[4,1,8,3]])"
   ]
  }
 ],
 "metadata": {
  "kernelspec": {
   "display_name": "Python 3.9.12 ('base')",
   "language": "python",
   "name": "python3"
  },
  "language_info": {
   "codemirror_mode": {
    "name": "ipython",
    "version": 3
   },
   "file_extension": ".py",
   "mimetype": "text/x-python",
   "name": "python",
   "nbconvert_exporter": "python",
   "pygments_lexer": "ipython3",
   "version": "3.9.12"
  },
  "orig_nbformat": 4,
  "vscode": {
   "interpreter": {
    "hash": "c3108f0eb53a8b68eb4132aec50c5cd9cd32243b94aaa2255ce7d2c62f93cae5"
   }
  }
 },
 "nbformat": 4,
 "nbformat_minor": 2
}
