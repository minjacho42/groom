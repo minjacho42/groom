{
 "cells": [
  {
   "cell_type": "markdown",
   "metadata": {},
   "source": [
    "## 1334. Find the City With the Smallest Number of Neighbors at a Threshold Distance\n",
    "There are n cities numbered from 0 to n-1. Given the array edges where edges[i] = [fromi, toi, weighti] represents a bidirectional and weighted edge between cities fromi and toi, and given the integer distanceThreshold.\n",
    "\n",
    "Return the city with the smallest number of cities that are reachable through some path and whose distance is at most distanceThreshold, If there are multiple such cities, return the city with the greatest number.\n",
    "\n",
    "Notice that the distance of a path connecting cities i and j is equal to the sum of the edges' weights along that path."
   ]
  },
  {
   "cell_type": "code",
   "execution_count": 122,
   "metadata": {},
   "outputs": [],
   "source": [
    "from collections import deque\n",
    "from math import inf\n",
    "class Solution:\n",
    "    def findTheCity(self, n: int, edges, distanceThreshold: int) -> int:\n",
    "        que = deque()\n",
    "        graph = [[0 if c==r else inf for c in range(n)]for r in range(n)]\n",
    "        for edge in edges:\n",
    "            graph[edge[0]][edge[1]] = edge[2]\n",
    "            graph[edge[1]][edge[0]] = edge[2] # graph update\n",
    "        for i in range(n):\n",
    "            for j,d in enumerate(graph[i]):\n",
    "                if j!=i and d <= distanceThreshold:\n",
    "                    que.appendleft((i,j,d))\n",
    "        while len(que) > 0:\n",
    "            start,end,dist = que.pop()\n",
    "            for j,d in enumerate(graph[end]):\n",
    "                if j!=end and d+dist < graph[start][j]:\n",
    "                    graph[start][j] = d+dist\n",
    "                    graph[j][start] = d+dist # if new dist is short, update graph\n",
    "                    if graph[start][j] <= distanceThreshold: # only consider distance less then threshold\n",
    "                        que.appendleft((start,j,d+dist))\n",
    "        min_len = inf\n",
    "        out = -1\n",
    "        for i,g in enumerate(graph):\n",
    "            length = len(list(filter(lambda x : x<=distanceThreshold,g)))\n",
    "            if length <= min_len:\n",
    "                min_len = length\n",
    "                out = i\n",
    "            i += 1\n",
    "        return out\n",
    "\n"
   ]
  },
  {
   "cell_type": "code",
   "execution_count": 123,
   "metadata": {},
   "outputs": [
    {
     "name": "stdout",
     "output_type": "stream",
     "text": [
      "0\n"
     ]
    }
   ],
   "source": [
    "sol =Solution()\n",
    "\n",
    "out = sol.findTheCity(5,[[0,1,2],[0,4,8],[1,2,3],[1,4,2],[2,3,1],[3,4,1]],2)\n",
    "#out = sol.findTheCity(6,[[0,1,10],[0,2,1],[2,3,1],[1,3,1],[1,4,1],[4,5,10]],20)\n",
    "#out = sol.findTheCity(6,[[0,3,7],[2,4,1],[0,1,5],[2,3,10],[1,3,6],[1,2,1]],417)\n",
    "print(out)"
   ]
  }
 ],
 "metadata": {
  "kernelspec": {
   "display_name": "Python 3.9.12 ('base')",
   "language": "python",
   "name": "python3"
  },
  "language_info": {
   "codemirror_mode": {
    "name": "ipython",
    "version": 3
   },
   "file_extension": ".py",
   "mimetype": "text/x-python",
   "name": "python",
   "nbconvert_exporter": "python",
   "pygments_lexer": "ipython3",
   "version": "3.9.12"
  },
  "orig_nbformat": 4,
  "vscode": {
   "interpreter": {
    "hash": "c3108f0eb53a8b68eb4132aec50c5cd9cd32243b94aaa2255ce7d2c62f93cae5"
   }
  }
 },
 "nbformat": 4,
 "nbformat_minor": 2
}
