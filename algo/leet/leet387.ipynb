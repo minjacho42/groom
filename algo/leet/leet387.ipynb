{
 "cells": [
  {
   "cell_type": "markdown",
   "metadata": {},
   "source": [
    "## 387. First Unique Character in a String\n",
    "Given a string s, find the first non-repeating character in it and return its index. If it does not exist, return -1."
   ]
  },
  {
   "cell_type": "code",
   "execution_count": null,
   "metadata": {},
   "outputs": [],
   "source": [
    "class Solution:\n",
    "    def firstUniqChar(self, s: str) -> int:\n",
    "        d = dict()\n",
    "        for i,c in enumerate(s):\n",
    "            if c not in d:\n",
    "                d[c] = [i,1]\n",
    "            else:\n",
    "                d[c][1] += 1\n",
    "        for k,v in d.items():\n",
    "            if v[1] == 1:\n",
    "                return v[0]\n",
    "        else:\n",
    "            return -1"
   ]
  }
 ],
 "metadata": {
  "language_info": {
   "name": "python"
  },
  "orig_nbformat": 4
 },
 "nbformat": 4,
 "nbformat_minor": 2
}
