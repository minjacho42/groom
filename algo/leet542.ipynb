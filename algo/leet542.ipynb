{
 "cells": [
  {
   "cell_type": "markdown",
   "metadata": {},
   "source": [
    "## 542. 01 Matrix\n",
    "Given an m x n binary matrix mat, return the distance of the nearest 0 for each cell.\n",
    "\n",
    "The distance between two adjacent cells is 1\n",
    "\n",
    "Input: mat = [[0,0,0],[0,1,0],[0,0,0]]\n",
    "Output: [[0,0,0],[0,1,0],[0,0,0]]"
   ]
  },
  {
   "cell_type": "code",
   "execution_count": 93,
   "metadata": {},
   "outputs": [],
   "source": [
    "from collections import deque as dq\n",
    "class Solution:\n",
    "    def updateMatrix(self, mat):\n",
    "        que = dq()\n",
    "        rows = len(mat)\n",
    "        cols = len(mat[0])\n",
    "        dist = [[rows*cols+1 if mat[row][col] != 0 else 0 for col in range(cols)] for row in range(rows)]\n",
    "        self.rows, self.cols = rows, cols\n",
    "        for row in range(rows):\n",
    "            for col in range(cols):\n",
    "                if mat[row][col] == 0:\n",
    "                    que.appendleft((row,col))\n",
    "        while len(que) > 0:\n",
    "            self.queAppend(que.pop(), que, dist)\n",
    "        return dist\n",
    "                    \n",
    "    def queAppend(self, index, que, dist):\n",
    "        row,col = index\n",
    "        if row < self.rows - 1 and dist[row][col] + 1 < dist[row+1][col]:\n",
    "            dist[row+1][col] = dist[row][col] + 1\n",
    "            que.appendleft((row+1,col))\n",
    "        if row > 0 and dist[row][col] + 1 < dist[row-1][col]:\n",
    "            dist[row-1][col] = dist[row][col] + 1\n",
    "            que.appendleft((row-1,col))\n",
    "        if col < self.cols - 1 and dist[row][col] + 1 < dist[row][col+1]:\n",
    "            dist[row][col+1] = dist[row][col] + 1\n",
    "            que.appendleft((row,col+1))\n",
    "        if col > 0 and dist[row][col] + 1 < dist[row][col-1]:\n",
    "            dist[row][col-1] = dist[row][col] + 1\n",
    "            que.appendleft((row,col-1))\n",
    "\n",
    "\n"
   ]
  },
  {
   "cell_type": "markdown",
   "metadata": {},
   "source": [
    "---\n",
    "\n",
    "### 틀린 코드"
   ]
  },
  {
   "cell_type": "code",
   "execution_count": 90,
   "metadata": {},
   "outputs": [],
   "source": [
    "class Solution:\n",
    "    def updateMatrix(self, mat):\n",
    "        rows = len(mat)\n",
    "        cols = len(mat[0])\n",
    "        dist = [[-1 if mat[row][col] != 0 else 0 for col in range(cols)] for row in range(rows)]\n",
    "        not_cal = rows*cols\n",
    "        print(dist)\n",
    "        while not_cal != 0:\n",
    "            not_cal = 0\n",
    "            for row in range(rows):\n",
    "                for col in range(cols):\n",
    "                    if dist[row][col] > -1:\n",
    "                        if row < rows - 1:\n",
    "                            right = dist[row+1][col]\n",
    "                            if right < 0 or right > dist[row][col] + 1:\n",
    "                                dist[row+1][col] = dist[row][col]+1\n",
    "                        if row > 0:\n",
    "                            left = dist[row-1][col]\n",
    "                            if left < 0 or left > dist[row][col] + 1:\n",
    "                                dist[row-1][col] = dist[row][col]+1\n",
    "                        if col < cols - 1:\n",
    "                            up = dist[row][col+1]\n",
    "                            if up < 0 or up > dist[row][col] + 1:\n",
    "                                dist[row][col+1] = dist[row][col]+1\n",
    "                        if col > 0:\n",
    "                            down = dist[row][col-1]\n",
    "                            if down < 0 or down > dist[row][col] + 1:\n",
    "                                dist[row][col-1] = dist[row][col]+1\n",
    "            for row in range(rows):\n",
    "                for col in range(cols):\n",
    "                    if dist[row][col] < 0:\n",
    "                        not_cal+=1\n",
    "        return dist"
   ]
  },
  {
   "cell_type": "code",
   "execution_count": 86,
   "metadata": {},
   "outputs": [],
   "source": [
    "class Solution:\n",
    "    def updateMatrix(self, mat):\n",
    "        rows = len(mat)\n",
    "        cols = len(mat[0])\n",
    "        dist = [[-1 if mat[i][j] != 0 else 0 for j in range(cols)] for i in range(rows)]\n",
    "        print(dist)\n",
    "        for row in range(rows):\n",
    "            for col in range(cols):\n",
    "                self.deep(row,col,mat,dist)\n",
    "        return dist\n",
    "    def deep(self, row, col, mat, dist):\n",
    "        rows = len(mat)\n",
    "        cols = len(mat[0])\n",
    "        if row < 0 or row >= rows or col < 0 or col >= cols:\n",
    "            return -1\n",
    "        if dist[row][col] >= 0:\n",
    "            return dist[row][col]\n",
    "        else:\n",
    "            right = self.deep(row+1,col,mat,dist)\n",
    "            left = self.deep(row-1,col,mat,dist)\n",
    "            up = self.deep(row,col+1,mat,dist)\n",
    "            down = self.deep(row,col-1,mat,dist)\n",
    "            for value in right, left, up, down:\n",
    "                if dist[row][col] >= 0:\n",
    "                    if value >= 0 and dist[row][col] > value + 1:\n",
    "                        dist[row][col] = value + 1\n",
    "                else:\n",
    "                    if value >= 0:\n",
    "                        dist[row][col] = value + 1"
   ]
  },
  {
   "cell_type": "code",
   "execution_count": 94,
   "metadata": {},
   "outputs": [
    {
     "name": "stdout",
     "output_type": "stream",
     "text": [
      "[[0, 0, 0], [0, 1, 0], [1, 2, 1]]\n"
     ]
    }
   ],
   "source": [
    "sol = Solution()\n",
    "print(sol.updateMatrix([[0,0,0],[0,1,0],[1,1,1]]))"
   ]
  },
  {
   "cell_type": "code",
   "execution_count": 63,
   "metadata": {},
   "outputs": [],
   "source": [
    "class Solution:\n",
    "    def updateMatrix(self, mat):\n",
    "        rows = len(mat)\n",
    "        cols = len(mat[0])\n",
    "        dist = [[-1 if mat[row][col] != 0 else 0 for col in range(cols)] for row in range(rows)]\n",
    "        not_cal = rows*cols\n",
    "        print(dist)\n",
    "        while not_cal != 0:\n",
    "            not_cal = 0\n",
    "            for row in range(rows):\n",
    "                for col in range(cols):\n",
    "                    if dist[row][col] < 0:\n",
    "                        right,left,up,down = -1,-1,-1,-1\n",
    "                        if row < rows - 1:\n",
    "                            right = dist[row+1][col]\n",
    "                        if row > 0:\n",
    "                            left = dist[row-1][col]\n",
    "                        if col < cols - 1:\n",
    "                            up = dist[row][col+1]\n",
    "                        if col > 0:\n",
    "                            down = dist[row][col-1]\n",
    "                        for value in right,left,up,down:\n",
    "                            if dist[row][col] >= 0:\n",
    "                                if value >= 0 and dist[row][col] > value + 1:\n",
    "                                    dist[row][col] = value + 1\n",
    "                            else:\n",
    "                                if value >= 0:\n",
    "                                    dist[row][col] = value + 1\n",
    "                        if dist[row][col] < 0:\n",
    "                            not_cal += 1\n",
    "        return dist\n",
    "\n"
   ]
  },
  {
   "cell_type": "code",
   "execution_count": null,
   "metadata": {},
   "outputs": [],
   "source": [
    "from collections import deque as dq\n",
    "class Solution:\n",
    "    def updateMatrix(self, mat):\n",
    "        rows = len(mat)\n",
    "        cols = len(mat[0])\n",
    "        dist = [[-1 if mat[row][col] != 0 else 0 for col in range(cols)] for row in range(rows)]\n",
    "        for row in range(rows):\n",
    "            for col in range(cols):\n",
    "                if dist[row][col] < 0:\n",
    "                    distance = 1\n",
    "    def bfs(self, row, col, mat, dist):\n",
    "        rows = len(mat)\n",
    "        cols = len(mat[0])\n",
    "        que = dq()\n",
    "        distance = 1\n",
    "        if row < rows - 1:\n",
    "            que.appendleft(dist[row+1][col])\n",
    "        if row > 0:\n",
    "            que.appendleft(dist[row-1][col])\n",
    "        if col < cols - 1:\n",
    "            que.appendleft(dist[row][col+1])\n",
    "        if col > 0:\n",
    "            que.appendleft(dist[row][col-1])\n",
    "        while len(que) > 0:\n",
    "            que.pop()\n",
    "\n",
    "        "
   ]
  },
  {
   "cell_type": "code",
   "execution_count": 70,
   "metadata": {},
   "outputs": [
    {
     "ename": "TypeError",
     "evalue": "list indices must be integers or slices, not list",
     "output_type": "error",
     "traceback": [
      "\u001b[0;31m---------------------------------------------------------------------------\u001b[0m",
      "\u001b[0;31mTypeError\u001b[0m                                 Traceback (most recent call last)",
      "\u001b[1;32m/home/minjae/groom/algo/leet542.ipynb 셀 5\u001b[0m in \u001b[0;36m<cell line: 3>\u001b[0;34m()\u001b[0m\n\u001b[1;32m      <a href='vscode-notebook-cell://wsl%2Bubuntu/home/minjae/groom/algo/leet542.ipynb#ch0000004vscode-remote?line=0'>1</a>\u001b[0m a \u001b[39m=\u001b[39m [[\u001b[39m0\u001b[39m,\u001b[39m0\u001b[39m,\u001b[39m0\u001b[39m],[\u001b[39m0\u001b[39m,\u001b[39m1\u001b[39m,\u001b[39m0\u001b[39m],[\u001b[39m1\u001b[39m,\u001b[39m1\u001b[39m,\u001b[39m1\u001b[39m]]\n\u001b[1;32m      <a href='vscode-notebook-cell://wsl%2Bubuntu/home/minjae/groom/algo/leet542.ipynb#ch0000004vscode-remote?line=1'>2</a>\u001b[0m index \u001b[39m=\u001b[39m [\u001b[39m1\u001b[39m,\u001b[39m0\u001b[39m]\n\u001b[0;32m----> <a href='vscode-notebook-cell://wsl%2Bubuntu/home/minjae/groom/algo/leet542.ipynb#ch0000004vscode-remote?line=2'>3</a>\u001b[0m a[index]\n",
      "\u001b[0;31mTypeError\u001b[0m: list indices must be integers or slices, not list"
     ]
    }
   ],
   "source": [
    "a = [[0,0,0],[0,1,0],[1,1,1]]\n",
    "index = 1,0\n",
    "a[index]"
   ]
  }
 ],
 "metadata": {
  "kernelspec": {
   "display_name": "Python 3.9.12 ('base')",
   "language": "python",
   "name": "python3"
  },
  "language_info": {
   "codemirror_mode": {
    "name": "ipython",
    "version": 3
   },
   "file_extension": ".py",
   "mimetype": "text/x-python",
   "name": "python",
   "nbconvert_exporter": "python",
   "pygments_lexer": "ipython3",
   "version": "3.9.12"
  },
  "orig_nbformat": 4,
  "vscode": {
   "interpreter": {
    "hash": "c3108f0eb53a8b68eb4132aec50c5cd9cd32243b94aaa2255ce7d2c62f93cae5"
   }
  }
 },
 "nbformat": 4,
 "nbformat_minor": 2
}
