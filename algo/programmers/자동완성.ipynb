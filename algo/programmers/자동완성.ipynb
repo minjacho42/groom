{
 "cells": [
  {
   "cell_type": "code",
   "execution_count": 13,
   "metadata": {},
   "outputs": [],
   "source": [
    "from collections import defaultdict\n",
    "def solution(words):\n",
    "    wordDict = defaultdict(dict)\n",
    "    for word in words:\n",
    "        for i,c in enumerate(word):\n",
    "            if c in wordDict[i]:\n",
    "                wordDict[i][c] += 1\n",
    "            else:\n",
    "                wordDict[i][c] = 1\n",
    "    answer = 0\n",
    "    for word in words:\n",
    "        for i,c in enumerate(word):\n",
    "            if wordDict[i][c] > 1:\n",
    "                answer+=1\n",
    "            else:\n",
    "                answer+=1\n",
    "                break\n",
    "    return answer\n",
    "# 36점\n"
   ]
  },
  {
   "cell_type": "code",
   "execution_count": 7,
   "metadata": {},
   "outputs": [],
   "source": [
    "from collections import deque\n",
    "class TreeNode:\n",
    "    def __init__(self, val):\n",
    "        self.val = val\n",
    "        self.next = {}\n",
    "def solution(words):\n",
    "    que = deque()\n",
    "    wordTree = TreeNode('start')\n",
    "    result = 0\n",
    "    for word in words:\n",
    "        ptr = wordTree\n",
    "        for c in word+'/':\n",
    "            if c not in ptr.next:\n",
    "                temp = TreeNode(c)\n",
    "                ptr.next[c] = temp\n",
    "            ptr = ptr.next[c]\n",
    "        que.appendleft((word,wordTree.next[word[0]],1,0))\n",
    "    while len(que)>0:\n",
    "        word, node, depth, answer = que.pop()\n",
    "        if len(word) == 1:\n",
    "            if len(node.next) > 1:\n",
    "                result += depth\n",
    "            else:\n",
    "                result += answer\n",
    "        elif len(node.next) > 1:\n",
    "            que.appendleft((word[1:],node.next[word[1]],depth+1,depth+1))\n",
    "        else:\n",
    "            que.appendleft((word[1:],node.next[word[1]],depth+1,answer))\n",
    "    return result\n",
    "# 통과\n",
    "            \n",
    "    "
   ]
  },
  {
   "cell_type": "code",
   "execution_count": 9,
   "metadata": {},
   "outputs": [
    {
     "data": {
      "text/plain": [
       "(7, 15)"
      ]
     },
     "execution_count": 9,
     "metadata": {},
     "output_type": "execute_result"
    }
   ],
   "source": [
    "solution(['go','gone','guild']),solution([\"word\",\"war\",\"warrior\",\"world\"])"
   ]
  }
 ],
 "metadata": {
  "kernelspec": {
   "display_name": "Python 3.8.10 64-bit",
   "language": "python",
   "name": "python3"
  },
  "language_info": {
   "codemirror_mode": {
    "name": "ipython",
    "version": 3
   },
   "file_extension": ".py",
   "mimetype": "text/x-python",
   "name": "python",
   "nbconvert_exporter": "python",
   "pygments_lexer": "ipython3",
   "version": "3.8.10"
  },
  "orig_nbformat": 4,
  "vscode": {
   "interpreter": {
    "hash": "916dbcbb3f70747c44a77c7bcd40155683ae19c65e1c03b4aa3499c5328201f1"
   }
  }
 },
 "nbformat": 4,
 "nbformat_minor": 2
}
