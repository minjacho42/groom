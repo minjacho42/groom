{
 "cells": [
  {
   "cell_type": "markdown",
   "metadata": {},
   "source": [
    "## 77. Combinations\n",
    "\n",
    "Given two integers n and k, return all possible combinations of k numbers out of the range [1, n].\n",
    "\n",
    "You may return the answer in any order"
   ]
  },
  {
   "cell_type": "code",
   "execution_count": 71,
   "metadata": {},
   "outputs": [],
   "source": [
    "class Solution:\n",
    "    def combine(self, n, k):\n",
    "        sequence = range(1,n+1)\n",
    "        result = set()\n",
    "        if k == n:\n",
    "            result.add(tuple(sequence))\n",
    "        elif k > n//2:\n",
    "            for instance in self.sub_combine(n, n-k):\n",
    "                result.add(tuple(set(sequence)-set(instance)))\n",
    "        else:\n",
    "            result = self.sub_combine(n,k)\n",
    "        return result\n",
    "    def sub_combine(self, n, k):\n",
    "        sequence = range(1,n+1)\n",
    "        result = set()\n",
    "        if k == 1:\n",
    "            for num in sequence:\n",
    "                result.add(tuple([num]))\n",
    "        else:\n",
    "            for target in sequence:\n",
    "                for instance in self.combine(n, k-1):\n",
    "                    tmp_instance = set(instance)\n",
    "                    tmp_target = set([target])\n",
    "                    tmp_instance = tmp_instance|tmp_target\n",
    "                    if len(tmp_instance) == k:\n",
    "                        result.add(tuple(tmp_instance))\n",
    "        return result"
   ]
  },
  {
   "cell_type": "code",
   "execution_count": 75,
   "metadata": {},
   "outputs": [
    {
     "data": {
      "text/plain": [
       "{(1,)}"
      ]
     },
     "execution_count": 75,
     "metadata": {},
     "output_type": "execute_result"
    }
   ],
   "source": [
    "sol = Solution()\n",
    "sol.combine(1,1)"
   ]
  },
  {
   "cell_type": "code",
   "execution_count": 69,
   "metadata": {},
   "outputs": [],
   "source": [
    "class Solution:\n",
    "    def combine(self, n, k):\n",
    "        sequence = range(1,n+1)\n",
    "        result = set()\n",
    "        if k > n//2:\n",
    "            for instance in self.sub_combine(n, n-k):\n",
    "                result.add(tuple(set(sequence)-set(instance)))\n",
    "        else:\n",
    "            result = self.sub_combine(n,k)\n",
    "        return result\n",
    "    def sub_combine(self, n, k):\n",
    "        sequence = range(1,n+1)\n",
    "        result = set()\n",
    "        if k == 1:\n",
    "            for num in sequence:\n",
    "                result.add(tuple([num]))\n",
    "        else:\n",
    "            for target in sequence:\n",
    "                for instance in self.combine(n, k-1):\n",
    "                    tmp_instance = set(instance)\n",
    "                    tmp_target = set([target])\n",
    "                    tmp_instance = tmp_instance|tmp_target\n",
    "                    if len(tmp_instance) == k:\n",
    "                        result.add(tuple(tmp_instance))\n",
    "        return result"
   ]
  },
  {
   "cell_type": "code",
   "execution_count": 45,
   "metadata": {},
   "outputs": [
    {
     "data": {
      "text/plain": [
       "{1, 2, 3}"
      ]
     },
     "execution_count": 45,
     "metadata": {},
     "output_type": "execute_result"
    }
   ],
   "source": [
    "a = set([1,2,3])\n",
    "a.add(1)\n",
    "a"
   ]
  },
  {
   "cell_type": "code",
   "execution_count": null,
   "metadata": {},
   "outputs": [],
   "source": [
    "class Solution:\n",
    "    def combine(self, n, k):\n",
    "        if k == 1:\n",
    "            for result in range(1,n+1):\n",
    "                yield set([result])\n",
    "        else:\n",
    "            for target in range(1,n+1):\n",
    "                for instance in self.combine(n, k-1):\n",
    "                    tmp_instance = instance\n",
    "                    if target not in instance and max(instance) < target:\n",
    "                        tmp_instance.add(target)\n",
    "                        yield tmp_instance"
   ]
  },
  {
   "cell_type": "code",
   "execution_count": 10,
   "metadata": {},
   "outputs": [],
   "source": [
    "class Solution:\n",
    "    def combine(self, n: int, k: int):\n",
    "        return list(self.my_combinations(list(range(1,n+1)), k))\n",
    "    def my_combinations(self, seq, number):\n",
    "        if number == 1:\n",
    "            for result in seq:\n",
    "                yield set([result])\n",
    "        else:\n",
    "            for target in seq:\n",
    "                for instance in self.my_combinations(seq, number-1):\n",
    "                    tmp_instance = instance\n",
    "                    if target not in instance and max(instance) < target:\n",
    "                        tmp_instance.add(target)\n",
    "                        yield tmp_instance\n",
    "        "
   ]
  },
  {
   "cell_type": "code",
   "execution_count": 11,
   "metadata": {},
   "outputs": [
    {
     "data": {
      "text/plain": [
       "[(1, 2), (1, 3), (2, 3), (1, 4), (2, 4), (3, 4)]"
      ]
     },
     "execution_count": 11,
     "metadata": {},
     "output_type": "execute_result"
    }
   ],
   "source": [
    "sol = Solution()\n",
    "sol.combine(4,2)"
   ]
  }
 ],
 "metadata": {
  "kernelspec": {
   "display_name": "Python 3.9.12 ('base')",
   "language": "python",
   "name": "python3"
  },
  "language_info": {
   "codemirror_mode": {
    "name": "ipython",
    "version": 3
   },
   "file_extension": ".py",
   "mimetype": "text/x-python",
   "name": "python",
   "nbconvert_exporter": "python",
   "pygments_lexer": "ipython3",
   "version": "3.9.12"
  },
  "orig_nbformat": 4,
  "vscode": {
   "interpreter": {
    "hash": "c3108f0eb53a8b68eb4132aec50c5cd9cd32243b94aaa2255ce7d2c62f93cae5"
   }
  }
 },
 "nbformat": 4,
 "nbformat_minor": 2
}
