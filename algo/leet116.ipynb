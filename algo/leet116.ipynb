{
 "cells": [
  {
   "cell_type": "markdown",
   "metadata": {},
   "source": [
    "## 116. Populating Next Right Pointers in Each Node\n",
    "You are given a perfect binary tree where all leaves are on the same level, and every parent has two children. The binary tree has the following definition:\n",
    "\n",
    "struct Node {\n",
    "  int val;\n",
    "  Node *left;\n",
    "  Node *right;\n",
    "  Node *next;\n",
    "}\n",
    "Populate each next pointer to point to its next right node. If there is no next right node, the next pointer should be set to NULL.\n",
    "\n",
    "Initially, all next pointers are set to NULL."
   ]
  },
  {
   "cell_type": "code",
   "execution_count": null,
   "metadata": {},
   "outputs": [],
   "source": [
    "\"\"\"\n",
    "# Definition for a Node.\n",
    "class Node:\n",
    "    def __init__(self, val: int = 0, left: 'Node' = None, right: 'Node' = None, next: 'Node' = None):\n",
    "        self.val = val\n",
    "        self.left = left\n",
    "        self.right = right\n",
    "        self.next = next\n",
    "\"\"\"\n",
    "from collections import deque\n",
    "\n",
    "class Solution:\n",
    "    def connect(self, root: 'Optional[Node]') -> 'Optional[Node]':\n",
    "        if not root:\n",
    "            return root\n",
    "        deq = deque()\n",
    "        deq.appendleft(root)\n",
    "        deq.appendleft('/')\n",
    "        temp = None\n",
    "        while len(deq) != 0:\n",
    "            before, temp = temp, deq.pop()\n",
    "            if temp == '/':\n",
    "                if before:\n",
    "                    deq.appendleft('/')\n",
    "                    before.next = None\n",
    "                    temp = None\n",
    "                continue\n",
    "            if before:\n",
    "                before.next = temp\n",
    "            if temp.left:\n",
    "                deq.appendleft(temp.left)\n",
    "            if temp.right:\n",
    "                deq.appendleft(temp.right)\n",
    "        return root"
   ]
  }
 ],
 "metadata": {
  "kernelspec": {
   "display_name": "Python 3.9.12 ('base')",
   "language": "python",
   "name": "python3"
  },
  "language_info": {
   "name": "python",
   "version": "3.9.12"
  },
  "orig_nbformat": 4,
  "vscode": {
   "interpreter": {
    "hash": "c3108f0eb53a8b68eb4132aec50c5cd9cd32243b94aaa2255ce7d2c62f93cae5"
   }
  }
 },
 "nbformat": 4,
 "nbformat_minor": 2
}
