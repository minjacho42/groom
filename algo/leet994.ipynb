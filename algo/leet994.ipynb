{
 "cells": [
  {
   "cell_type": "markdown",
   "metadata": {},
   "source": [
    "## 994. Rotting Oranges\n",
    "\n",
    "You are given an m x n grid where each cell can have one of three values:\n",
    "\n",
    "0 representing an empty cell,\n",
    "\n",
    "1 representing a fresh orange, or\n",
    "\n",
    "2 representing a rotten orange.\n",
    "\n",
    "Every minute, any fresh orange that is 4-directionally adjacent to a rotten orange becomes rotten.\n",
    "\n",
    "\n",
    "Return the minimum number of minutes that must elapse until no cell has a fresh orange. If this is impossible, return -1."
   ]
  },
  {
   "cell_type": "code",
   "execution_count": 8,
   "metadata": {},
   "outputs": [],
   "source": [
    "from collections import deque as dq\n",
    "class Solution:\n",
    "    def orangesRotting(self, grid) -> int:\n",
    "        que = dq()\n",
    "        rows = len(grid)\n",
    "        cols = len(grid[0])\n",
    "        self.rows, self.cols = rows, cols\n",
    "        fresh = 0\n",
    "        for row in range(rows):\n",
    "            for col in range(cols):\n",
    "                if grid[row][col] == 2:\n",
    "                    que.appendleft((row,col))\n",
    "                elif grid[row][col] == 1:\n",
    "                    fresh+=1\n",
    "        que.appendleft('delim')\n",
    "        minuite = -1\n",
    "        flag = False\n",
    "        while len(que) > 0:\n",
    "            index = que.pop()\n",
    "            if index == 'delim':\n",
    "                if flag:\n",
    "                    break\n",
    "                else:\n",
    "                    que.appendleft('delim')\n",
    "                    flag = True\n",
    "                    minuite+=1\n",
    "            else:\n",
    "                flag = False\n",
    "                self.queAppend(index, que, grid, minuite)\n",
    "        fresh = 0\n",
    "        for row in range(rows):\n",
    "            for col in range(cols):\n",
    "                if grid[row][col] == 1:\n",
    "                    fresh+=1\n",
    "        if fresh > 0:\n",
    "            return -1\n",
    "        else:\n",
    "            return minuite\n",
    "    def queAppend(self, index, que, grid, minuite):\n",
    "        row,col = index\n",
    "        if row < self.rows - 1 and grid[row+1][col] == 1:\n",
    "            grid[row+1][col] = 2\n",
    "            que.appendleft((row+1,col))\n",
    "        if row > 0 and grid[row-1][col] == 1:\n",
    "            grid[row-1][col] = 2\n",
    "            que.appendleft((row-1,col))\n",
    "        if col < self.cols - 1 and grid[row][col+1] == 1:\n",
    "            grid[row][col+1] = 2\n",
    "            que.appendleft((row,col+1))\n",
    "        if col > 0 and grid[row][col-1] == 1:\n",
    "            grid[row][col-1] = 2\n",
    "            que.appendleft((row,col-1))"
   ]
  },
  {
   "cell_type": "code",
   "execution_count": 11,
   "metadata": {},
   "outputs": [
    {
     "data": {
      "text/plain": [
       "0"
      ]
     },
     "execution_count": 11,
     "metadata": {},
     "output_type": "execute_result"
    }
   ],
   "source": [
    "sol = Solution()\n",
    "sol.orangesRotting([[0,2]])"
   ]
  }
 ],
 "metadata": {
  "kernelspec": {
   "display_name": "Python 3.9.12 ('base')",
   "language": "python",
   "name": "python3"
  },
  "language_info": {
   "codemirror_mode": {
    "name": "ipython",
    "version": 3
   },
   "file_extension": ".py",
   "mimetype": "text/x-python",
   "name": "python",
   "nbconvert_exporter": "python",
   "pygments_lexer": "ipython3",
   "version": "3.9.12"
  },
  "orig_nbformat": 4,
  "vscode": {
   "interpreter": {
    "hash": "c3108f0eb53a8b68eb4132aec50c5cd9cd32243b94aaa2255ce7d2c62f93cae5"
   }
  }
 },
 "nbformat": 4,
 "nbformat_minor": 2
}
