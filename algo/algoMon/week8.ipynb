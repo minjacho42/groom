{
 "cells": [
  {
   "cell_type": "code",
   "execution_count": 2,
   "metadata": {},
   "outputs": [
    {
     "name": "stdout",
     "output_type": "stream",
     "text": [
      "{'1': [], '2': [], '3': [], '4': []}\n"
     ]
    }
   ],
   "source": [
    "users, m = tuple(map(int,input().split()))\n",
    "adrs={str(user+1):[] for user in range(users)}\n",
    "log = []\n",
    "for _ in range(m):\n",
    "    user,message = input().split()\n",
    "    if message.isdigit():\n",
    "        log[adrs[user][int(message)-1]]=(user,'deleted')\n",
    "    else:\n",
    "        log.append((user,message))\n",
    "        adrs[user].append(len(log)-1)\n",
    "for msg in log:\n",
    "    print(msg[0],msg[1])"
   ]
  }
 ],
 "metadata": {
  "kernelspec": {
   "display_name": "Python 3.9.12 ('base')",
   "language": "python",
   "name": "python3"
  },
  "language_info": {
   "codemirror_mode": {
    "name": "ipython",
    "version": 3
   },
   "file_extension": ".py",
   "mimetype": "text/x-python",
   "name": "python",
   "nbconvert_exporter": "python",
   "pygments_lexer": "ipython3",
   "version": "3.9.12"
  },
  "orig_nbformat": 4,
  "vscode": {
   "interpreter": {
    "hash": "c3108f0eb53a8b68eb4132aec50c5cd9cd32243b94aaa2255ce7d2c62f93cae5"
   }
  }
 },
 "nbformat": 4,
 "nbformat_minor": 2
}
