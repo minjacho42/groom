{
 "cells": [
  {
   "cell_type": "code",
   "execution_count": null,
   "metadata": {},
   "outputs": [],
   "source": [
    "n,m = tuple(map(int,input().split()))\n",
    "row = set()\n",
    "col = set()\n",
    "for i in range(m):\n",
    "    for j,k in enumerate(list(map(int,input().split()))):\n",
    "        if k==3:\n",
    "            row.add(i)\n",
    "            col.add(j)\n",
    "        elif k==2:\n",
    "            col.add(j)\n",
    "        elif k==1:\n",
    "            row.add(i)\n",
    "size = (m-len(row))*(n-len(col))\n",
    "print(size)"
   ]
  },
  {
   "cell_type": "code",
   "execution_count": null,
   "metadata": {},
   "outputs": [],
   "source": [
    "\"\"\"from collections import deque\n",
    "def appendQue(i,j,kind,que):\n",
    "    if kind==1:\n",
    "        elements = [(i-1,j,-1),(i+1,j,1)]\n",
    "    elif kind==2:\n",
    "        elements = [(i,j+1,2),(i,j-1,-2)]\n",
    "    elif kind==3:\n",
    "        elements = [(i,j+1,2),(i,j-1,-2),(i-1,j,-1),(i+1,j,1)]\n",
    "    for element in elements:\n",
    "        que.appendleft(element)\n",
    "que = deque()\n",
    "n,m = tuple(map(int,input().split()))\n",
    "result = m*n\n",
    "rooms = []\n",
    "for i in range(m):\n",
    "    room = list(map(int,input().split()))\n",
    "    rooms.append(room)\n",
    "    for j,k in enumerate(room):\n",
    "        if k!=0:\n",
    "            appendQue(i,j,k,que)\n",
    "            rooms[i][j] = -1\n",
    "            result -= 1\n",
    "print(rooms)\n",
    "while len(que)>0:\n",
    "    i,j,k = que.pop()\n",
    "    if i<n and i>=0 and j<m and j>=0:\n",
    "        if rooms[i][j] == 0:\n",
    "            rooms[i][j] = -1\n",
    "            result -= 1\n",
    "        if abs(k) == 1:\n",
    "            t_i = i+k\n",
    "            t_j = j\n",
    "        elif abs(k) == 2:\n",
    "            t_i = i\n",
    "            t_j = j + (k//2)\n",
    "        que.append((t_i,t_j,k))\n",
    "print(result)\"\"\""
   ]
  },
  {
   "cell_type": "code",
   "execution_count": 34,
   "metadata": {},
   "outputs": [
    {
     "data": {
      "text/plain": [
       "{0}"
      ]
     },
     "execution_count": 34,
     "metadata": {},
     "output_type": "execute_result"
    }
   ],
   "source": [
    "row = set()\n",
    "row.add(0)\n",
    "row.add(0)\n",
    "row"
   ]
  }
 ],
 "metadata": {
  "kernelspec": {
   "display_name": "Python 3.9.12 ('base')",
   "language": "python",
   "name": "python3"
  },
  "language_info": {
   "codemirror_mode": {
    "name": "ipython",
    "version": 3
   },
   "file_extension": ".py",
   "mimetype": "text/x-python",
   "name": "python",
   "nbconvert_exporter": "python",
   "pygments_lexer": "ipython3",
   "version": "3.9.12"
  },
  "orig_nbformat": 4,
  "vscode": {
   "interpreter": {
    "hash": "c3108f0eb53a8b68eb4132aec50c5cd9cd32243b94aaa2255ce7d2c62f93cae5"
   }
  }
 },
 "nbformat": 4,
 "nbformat_minor": 2
}
