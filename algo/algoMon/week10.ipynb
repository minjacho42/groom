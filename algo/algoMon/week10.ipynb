{
 "cells": [
  {
   "cell_type": "code",
   "execution_count": 6,
   "metadata": {},
   "outputs": [
    {
     "ename": "ValueError",
     "evalue": "invalid literal for int() with base 10: ''",
     "output_type": "error",
     "traceback": [
      "\u001b[0;31m---------------------------------------------------------------------------\u001b[0m",
      "\u001b[0;31mValueError\u001b[0m                                Traceback (most recent call last)",
      "\u001b[1;32m/home/minjae/groom/algo/algoMon/week10.ipynb 셀 1\u001b[0m in \u001b[0;36m<cell line: 1>\u001b[0;34m()\u001b[0m\n\u001b[0;32m----> <a href='vscode-notebook-cell://wsl%2Bubuntu/home/minjae/groom/algo/algoMon/week10.ipynb#W0sdnNjb2RlLXJlbW90ZQ%3D%3D?line=0'>1</a>\u001b[0m N \u001b[39m=\u001b[39m \u001b[39mint\u001b[39;49m(\u001b[39minput\u001b[39;49m())\n\u001b[1;32m      <a href='vscode-notebook-cell://wsl%2Bubuntu/home/minjae/groom/algo/algoMon/week10.ipynb#W0sdnNjb2RlLXJlbW90ZQ%3D%3D?line=1'>2</a>\u001b[0m freqs \u001b[39m=\u001b[39m {}\n\u001b[1;32m      <a href='vscode-notebook-cell://wsl%2Bubuntu/home/minjae/groom/algo/algoMon/week10.ipynb#W0sdnNjb2RlLXJlbW90ZQ%3D%3D?line=2'>3</a>\u001b[0m \u001b[39mfor\u001b[39;00m i \u001b[39min\u001b[39;00m \u001b[39mrange\u001b[39m(N):\n",
      "\u001b[0;31mValueError\u001b[0m: invalid literal for int() with base 10: ''"
     ]
    }
   ],
   "source": [
    "N = int(input())\n",
    "freqs = {}\n",
    "for i in range(N):\n",
    "    village = list(input().split())[1:]\n",
    "    print(village)\n",
    "    for freq in village:\n",
    "        if freq in freqs:\n",
    "            freqs[freq].add(str(i))\n",
    "        else:\n",
    "            freqs[freq] = set(str(i))\n",
    "sorted()\n",
    "print(most)\n",
    "\"\"\"for freq,vills in freqs.items():\"\"\"\n"
   ]
  },
  {
   "cell_type": "code",
   "execution_count": 12,
   "metadata": {},
   "outputs": [
    {
     "name": "stdout",
     "output_type": "stream",
     "text": [
      "1\n"
     ]
    }
   ],
   "source": [
    "from collections import deque\n",
    "N = int(input())\n",
    "freqs = {}\n",
    "for i in range(N):\n",
    "\tvillage = list(input().split())[1:]\n",
    "\tfor freq in village:\n",
    "\t\tif freq in freqs:\n",
    "\t\t\tfreqs[freq].add(str(i))\n",
    "\t\telse:\n",
    "\t\t\tfreqs[freq] = set(str(i))\n",
    "freqs = list(freqs.items())\n",
    "def BFS(freqs):\n",
    "\tvills = set(map(str,range(N)))\n",
    "\tque = deque()\n",
    "\tque.appendleft((0,-1,vills))\n",
    "\twhile len(que) > 0:\n",
    "\t\tdepth,index,vills = que.pop()\n",
    "\t\tdepth += 1\n",
    "\t\tindex += 1\n",
    "\t\tfor i in range(index,len(freqs)):\n",
    "\t\t\ttemp_vill = vills - freqs[i][1]\n",
    "\t\t\tif not temp_vill:\n",
    "\t\t\t\treturn depth\n",
    "\t\t\telse:\n",
    "\t\t\t\tque.appendleft((depth,i,temp_vill))\n",
    "print(BFS(freqs))"
   ]
  }
 ],
 "metadata": {
  "kernelspec": {
   "display_name": "Python 3.9.12 ('base')",
   "language": "python",
   "name": "python3"
  },
  "language_info": {
   "codemirror_mode": {
    "name": "ipython",
    "version": 3
   },
   "file_extension": ".py",
   "mimetype": "text/x-python",
   "name": "python",
   "nbconvert_exporter": "python",
   "pygments_lexer": "ipython3",
   "version": "3.9.12"
  },
  "orig_nbformat": 4,
  "vscode": {
   "interpreter": {
    "hash": "c3108f0eb53a8b68eb4132aec50c5cd9cd32243b94aaa2255ce7d2c62f93cae5"
   }
  }
 },
 "nbformat": 4,
 "nbformat_minor": 2
}
