{
 "cells": [
  {
   "cell_type": "code",
   "execution_count": null,
   "metadata": {},
   "outputs": [],
   "source": [
    "from collections import deque\n",
    "que = deque()\n",
    "user_input = input()\n",
    "col, row = user_input.split()\n",
    "col = int(col)\n",
    "row = int(row)\n",
    "square = [[0 for _ in range(col)] for _ in range(row)]\n",
    "for i in range(row):\n",
    "    user_input = input()\n",
    "    for j,c in enumerate(user_input):\n",
    "        if c == '*':\n",
    "            que.append((i,j))\n",
    "            square[i][j] = '*'\n",
    "direction = [(0,1),(0,-1),(1,0),(-1,0),(1,1),(1,-1),(-1,-1),(-1,1)]\n",
    "while len(que) > 0:\n",
    "    index = que.pop()\n",
    "    for d in direction:\n",
    "        i = index[0]+d[0]\n",
    "        j = index[1]+d[1]\n",
    "        if i >= 0 and i < row and j >= 0 and j < col:\n",
    "            if square[i][j] != '*':\n",
    "                square[i][j] += 1\n",
    "for line in square:\n",
    "    for c in line:\n",
    "        print(c, end=\"\")\n",
    "    print(\"\")"
   ]
  }
 ],
 "metadata": {
  "kernelspec": {
   "display_name": "Python 3.9.12 ('base')",
   "language": "python",
   "name": "python3"
  },
  "language_info": {
   "codemirror_mode": {
    "name": "ipython",
    "version": 3
   },
   "file_extension": ".py",
   "mimetype": "text/x-python",
   "name": "python",
   "nbconvert_exporter": "python",
   "pygments_lexer": "ipython3",
   "version": "3.9.12"
  },
  "orig_nbformat": 4,
  "vscode": {
   "interpreter": {
    "hash": "c3108f0eb53a8b68eb4132aec50c5cd9cd32243b94aaa2255ce7d2c62f93cae5"
   }
  }
 },
 "nbformat": 4,
 "nbformat_minor": 2
}
