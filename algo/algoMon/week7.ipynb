{
 "cells": [
  {
   "cell_type": "code",
   "execution_count": null,
   "metadata": {},
   "outputs": [],
   "source": [
    "n = int(input())\n",
    "dots = {'1':0,'2':0,'3':0,'4':0}\n",
    "for _ in range(n):\n",
    "\tx,y = tuple(map(int,input().split()))\n",
    "\tif x>0:\n",
    "\t\tif y>0:\n",
    "\t\t\tdots['1']+=1\n",
    "\t\telif y<0:\n",
    "\t\t\tdots['4']+=1\n",
    "\telif x<0:\n",
    "\t\tif y>0:\n",
    "\t\t\tdots['2']+=1\n",
    "\t\telif y<0:\n",
    "\t\t\tdots['3']+=1\n",
    "print(max(dots,key=dots.get))"
   ]
  }
 ],
 "metadata": {
  "kernelspec": {
   "display_name": "Python 3.9.12 ('base')",
   "language": "python",
   "name": "python3"
  },
  "language_info": {
   "name": "python",
   "version": "3.9.12"
  },
  "orig_nbformat": 4,
  "vscode": {
   "interpreter": {
    "hash": "c3108f0eb53a8b68eb4132aec50c5cd9cd32243b94aaa2255ce7d2c62f93cae5"
   }
  }
 },
 "nbformat": 4,
 "nbformat_minor": 2
}
