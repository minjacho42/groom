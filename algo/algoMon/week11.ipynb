{
 "cells": [
  {
   "cell_type": "code",
   "execution_count": null,
   "metadata": {},
   "outputs": [],
   "source": [
    "N,S,E = tuple(map(int,input().split()))\n",
    "vill = [list(map(int,input().split())) for _ in range(N)]\n",
    "\n",
    "def compare(vill,i,j):\n",
    "    direction = [(1,0),(-1,0),(0,1),(0,-1)]\n",
    "    for d in direction:\n",
    "        d1,d2 = i+d[0],j+d[1]\n",
    "        if 0<=d1<N and 0<=d2<N:\n",
    "            if vill[d1][d2] == 0:\n",
    "                continue\n",
    "            if S<=abs(vill[d1][d2]-vill[i][j])<=E:\n",
    "                print(d1,d2,i,j)\n",
    "                return True\n",
    "    return False\n",
    "def loop(vill):\n",
    "    n = 0\n",
    "    while True:\n",
    "        dest = []\n",
    "        total = 0\n",
    "        print(vill)\n",
    "        for i in range(N):\n",
    "            for j in range(N):\n",
    "                if vill[i][j]==0:\n",
    "                    continue\n",
    "                if compare(vill,i,j):\n",
    "                    dest.append((i,j))\n",
    "                    total += vill[i][j]\n",
    "        if len(dest)==0:\n",
    "            return n\n",
    "        else:\n",
    "            n += 1\n",
    "            div = total//len(dest)\n",
    "            for dot in dest:\n",
    "                i,j=dot\n",
    "                vill[i][j]=div\n",
    "print(loop(vill))"
   ]
  },
  {
   "cell_type": "code",
   "execution_count": 16,
   "metadata": {},
   "outputs": [
    {
     "name": "stdout",
     "output_type": "stream",
     "text": [
      "[[10, 20, 20], [30, 0, 0], [30, 30, 30]]\n",
      "[[20, 20, 20], [20, 0, 0], [30, 30, 30]]\n",
      "1\n"
     ]
    }
   ],
   "source": [
    "N,S,E = tuple(map(int,input().split()))\n",
    "vill = [list(map(int,input().split())) for _ in range(N)]\n",
    "visit = [[0 for _ in range(N)] for _ in range(N)]\n",
    "def compare(visit,vill,i,j):\n",
    "    direction = [(1,0),(-1,0),(0,1),(0,-1)]\n",
    "    dest = []\n",
    "    total=0\n",
    "    for d in direction:\n",
    "        d1,d2 = i+d[0],j+d[1]\n",
    "        if 0<=d1<N and 0<=d2<N:\n",
    "            if vill[d1][d2] == 0 or visit[d1][d2]==1:\n",
    "                continue\n",
    "            if S<=abs(vill[d1][d2]-vill[i][j])<=E:\n",
    "                dest.append((d1,d2))\n",
    "                total+=vill[d1][d2]\n",
    "                break\n",
    "    if dest:\n",
    "        total += vill[i][j]\n",
    "        dest.append((i,j))\n",
    "        return (dest,total//len(dest))\n",
    "    else:\n",
    "        return (dest,0)\n",
    "def loop(vill):\n",
    "    n = 0\n",
    "    print(vill)\n",
    "    for i in range(N):\n",
    "        for j in range(N):\n",
    "            if vill[i][j]==0 or visit[i][j]==1:\n",
    "                continue\n",
    "            else:\n",
    "                dest,div = compare(visit,vill,i,j)\n",
    "                if dest:\n",
    "                    for dot in dest:\n",
    "                        i,j=dot\n",
    "                        vill[i][j]=div\n",
    "                        visit[i][j]=1\n",
    "                    n += 1\n",
    "                    print(vill)\n",
    "    return n\n",
    "print(loop(vill))"
   ]
  },
  {
   "cell_type": "code",
   "execution_count": 5,
   "metadata": {},
   "outputs": [
    {
     "data": {
      "text/plain": [
       "False"
      ]
     },
     "execution_count": 5,
     "metadata": {},
     "output_type": "execute_result"
    }
   ],
   "source": [
    "N = 10\n",
    "d1 = -1\n",
    "0<=d1<N"
   ]
  }
 ],
 "metadata": {
  "kernelspec": {
   "display_name": "Python 3.9.12 ('base')",
   "language": "python",
   "name": "python3"
  },
  "language_info": {
   "codemirror_mode": {
    "name": "ipython",
    "version": 3
   },
   "file_extension": ".py",
   "mimetype": "text/x-python",
   "name": "python",
   "nbconvert_exporter": "python",
   "pygments_lexer": "ipython3",
   "version": "3.9.12"
  },
  "orig_nbformat": 4,
  "vscode": {
   "interpreter": {
    "hash": "c3108f0eb53a8b68eb4132aec50c5cd9cd32243b94aaa2255ce7d2c62f93cae5"
   }
  }
 },
 "nbformat": 4,
 "nbformat_minor": 2
}
