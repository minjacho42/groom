{
 "cells": [
  {
   "cell_type": "code",
   "execution_count": null,
   "metadata": {},
   "outputs": [],
   "source": [
    "t = int(input())\n",
    "nums = list(map(int,input().split()))\n",
    "winners = []\n",
    "for num in nums:\n",
    "    win = num%3 + num//3\n",
    "    winners.append(win)\n",
    "a,b =0,0\n",
    "for winner in winners:\n",
    "    if winner % 2 == 0:\n",
    "        a += 1\n",
    "    else:\n",
    "        b += 1\n",
    "if a == b:\n",
    "    print('tie')\n",
    "else:\n",
    "    print(max(a,b))\n",
    "\n",
    "\n"
   ]
  }
 ],
 "metadata": {
  "kernelspec": {
   "display_name": "Python 3.9.12 ('base')",
   "language": "python",
   "name": "python3"
  },
  "language_info": {
   "codemirror_mode": {
    "name": "ipython",
    "version": 3
   },
   "file_extension": ".py",
   "mimetype": "text/x-python",
   "name": "python",
   "nbconvert_exporter": "python",
   "pygments_lexer": "ipython3",
   "version": "3.9.12"
  },
  "orig_nbformat": 4,
  "vscode": {
   "interpreter": {
    "hash": "c3108f0eb53a8b68eb4132aec50c5cd9cd32243b94aaa2255ce7d2c62f93cae5"
   }
  }
 },
 "nbformat": 4,
 "nbformat_minor": 2
}
