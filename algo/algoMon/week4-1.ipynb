{
 "cells": [
  {
   "cell_type": "code",
   "execution_count": 2,
   "metadata": {},
   "outputs": [
    {
     "name": "stdout",
     "output_type": "stream",
     "text": [
      "-1\n"
     ]
    }
   ],
   "source": [
    "def compSplit(string):\n",
    "\ta,b = string.split('+')\n",
    "\treturn (int(a),int(b[:-1]))\n",
    "def usrAbs(num):\n",
    "\tif num > 0:\n",
    "\t\tresult = num%10007\n",
    "\telse:\n",
    "\t\tresult = -(abs(num)%10007)\n",
    "\treturn result\n",
    "t = int(input())\n",
    "nums = list(map(compSplit,input().split()))\n",
    "a,b=nums[0]\n",
    "for num in nums[1:]:\n",
    "\tc,d=num\n",
    "\ttemp_a = a*c - b*d\n",
    "\ttemp_b = a*d + b*c\n",
    "\ta = temp_a\n",
    "\tb = temp_b\n",
    "a = usrAbs(a)\n",
    "b = usrAbs(b)\n",
    "print(f\"{a}+{b}i\")"
   ]
  }
 ],
 "metadata": {
  "kernelspec": {
   "display_name": "Python 3.9.12 ('base')",
   "language": "python",
   "name": "python3"
  },
  "language_info": {
   "codemirror_mode": {
    "name": "ipython",
    "version": 3
   },
   "file_extension": ".py",
   "mimetype": "text/x-python",
   "name": "python",
   "nbconvert_exporter": "python",
   "pygments_lexer": "ipython3",
   "version": "3.9.12"
  },
  "orig_nbformat": 4,
  "vscode": {
   "interpreter": {
    "hash": "c3108f0eb53a8b68eb4132aec50c5cd9cd32243b94aaa2255ce7d2c62f93cae5"
   }
  }
 },
 "nbformat": 4,
 "nbformat_minor": 2
}
