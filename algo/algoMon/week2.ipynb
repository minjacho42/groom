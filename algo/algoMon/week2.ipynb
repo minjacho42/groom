{
 "cells": [
  {
   "cell_type": "code",
   "execution_count": null,
   "metadata": {},
   "outputs": [],
   "source": [
    "t = input()\n",
    "t = int(t)\n",
    "infos = []\n",
    "for _ in range(t):\n",
    "    user_input = input()\n",
    "    user_input = user_input.split()\n",
    "    element = []\n",
    "    for i in user_input:\n",
    "        element.append(int(i))\n",
    "    infos.append(element)\n",
    "flag = True\n",
    "for info in infos:\n",
    "    if not flag:\n",
    "        break\n",
    "    if (info[1]/info[0])*100 > info[2]:\n",
    "        print(0)\n",
    "        break\n",
    "    for i in range(info[3]):\n",
    "        if info[4] > info[5+i]:\n",
    "            print(0)\n",
    "            flag = False\n",
    "            break\n",
    "else:\n",
    "    print(1)\n"
   ]
  }
 ],
 "metadata": {
  "kernelspec": {
   "display_name": "Python 3.9.12 ('base')",
   "language": "python",
   "name": "python3"
  },
  "language_info": {
   "codemirror_mode": {
    "name": "ipython",
    "version": 3
   },
   "file_extension": ".py",
   "mimetype": "text/x-python",
   "name": "python",
   "nbconvert_exporter": "python",
   "pygments_lexer": "ipython3",
   "version": "3.9.12"
  },
  "orig_nbformat": 4,
  "vscode": {
   "interpreter": {
    "hash": "c3108f0eb53a8b68eb4132aec50c5cd9cd32243b94aaa2255ce7d2c62f93cae5"
   }
  }
 },
 "nbformat": 4,
 "nbformat_minor": 2
}
