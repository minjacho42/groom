{
 "cells": [
  {
   "cell_type": "code",
   "execution_count": 21,
   "metadata": {},
   "outputs": [],
   "source": [
    "from math import ceil\n",
    "def time_diff(time_in,time_out):\n",
    "    (h_in,m_in) = map(int,time_in.split(':'))\n",
    "    (h_out,m_out) = map(int,time_out.split(':'))\n",
    "    h_diff = h_out - h_in\n",
    "    m_diff = m_out - m_in\n",
    "    time_d = h_diff * 60 + m_diff\n",
    "    print(time_d)\n",
    "    return time_d\n",
    "def fee_cal(fees,time):\n",
    "    fee = fees[1]\n",
    "    if time>fees[0]:\n",
    "        fee += ceil((time-fees[0])/fees[2])*fees[3]\n",
    "    return fee\n",
    "def solution(fees, records):\n",
    "    memory = {}\n",
    "    for record in records:\n",
    "        time,number,cmd = record.split()\n",
    "        if number not in memory:\n",
    "            memory[number] = [time,0]\n",
    "        else:\n",
    "            if memory[number][0]:\n",
    "                memory[number][1] += time_diff(memory[number][0],time)\n",
    "                memory[number][0] = None\n",
    "            else:\n",
    "                memory[number][0] = time\n",
    "    print(memory)\n",
    "    result = []\n",
    "    for k,v in memory.items():\n",
    "        if v[0]:\n",
    "            time = v[1]+time_diff(v[0],'23:59')\n",
    "        else:\n",
    "            time = v[1]\n",
    "        result.append((k,time))\n",
    "    result = sorted(result,key=lambda x: x[0])\n",
    "    return list(map(lambda x: fee_cal(fees,x[1]),result))"
   ]
  },
  {
   "cell_type": "code",
   "execution_count": 22,
   "metadata": {},
   "outputs": [
    {
     "name": "stdout",
     "output_type": "stream",
     "text": [
      "34\n",
      "145\n",
      "670\n",
      "1\n",
      "{'5961': [None, 146], '0000': ['18:59', 34], '0148': [None, 670]}\n",
      "300\n"
     ]
    },
    {
     "data": {
      "text/plain": [
       "[14600, 34400, 5000]"
      ]
     },
     "execution_count": 22,
     "metadata": {},
     "output_type": "execute_result"
    }
   ],
   "source": [
    "solution([180,5000,10,600],[\"05:34 5961 IN\", \"06:00 0000 IN\", \"06:34 0000 OUT\", \"07:59 5961 OUT\", \"07:59 0148 IN\", \"18:59 0000 IN\", \"19:09 0148 OUT\", \"22:59 5961 IN\", \"23:00 5961 OUT\"])"
   ]
  }
 ],
 "metadata": {
  "kernelspec": {
   "display_name": "Python 3.9.12 ('base')",
   "language": "python",
   "name": "python3"
  },
  "language_info": {
   "codemirror_mode": {
    "name": "ipython",
    "version": 3
   },
   "file_extension": ".py",
   "mimetype": "text/x-python",
   "name": "python",
   "nbconvert_exporter": "python",
   "pygments_lexer": "ipython3",
   "version": "3.9.12"
  },
  "orig_nbformat": 4,
  "vscode": {
   "interpreter": {
    "hash": "c3108f0eb53a8b68eb4132aec50c5cd9cd32243b94aaa2255ce7d2c62f93cae5"
   }
  }
 },
 "nbformat": 4,
 "nbformat_minor": 2
}
