{
 "cells": [
  {
   "cell_type": "markdown",
   "metadata": {},
   "source": [
    "## 733. Flood Fill\n",
    "An image is represented by an m x n integer grid image where image[i][j] represents the pixel value of the image.\n",
    "\n",
    "You are also given three integers sr, sc, and color. You should perform a flood fill on the image starting from the pixel image[sr][sc].\n",
    "\n",
    "To perform a flood fill, consider the starting pixel, plus any pixels connected 4-directionally to the starting pixel of the same color as the starting pixel, plus any pixels connected 4-directionally to those pixels (also with the same color), and so on. Replace the color of all of the aforementioned pixels with color.\n",
    "\n",
    "Return the modified image after performing the flood fill."
   ]
  },
  {
   "cell_type": "code",
   "execution_count": null,
   "metadata": {},
   "outputs": [],
   "source": [
    "class Solution:\n",
    "    def floodFill(self, image: List[List[int]], sr: int, sc: int, color: int) -> List[List[int]]:\n",
    "        m = len(image)\n",
    "        n = len(image[0])\n",
    "        before_color = image[sr][sc]\n",
    "        if before_color == color:\n",
    "            return image\n",
    "        image[sr][sc] = color\n",
    "        if sc > 0 and image[sr][sc-1] == before_color:\n",
    "            self.floodFill(image,sr,sc-1,color)\n",
    "        if sc < n-1 and image[sr][sc+1] == before_color:\n",
    "            self.floodFill(image,sr,sc+1,color)\n",
    "        if sr > 0 and image[sr-1][sc] == before_color:\n",
    "            self.floodFill(image,sr-1,sc,color)\n",
    "        if sr < m-1 and image[sr+1][sc] == before_color:\n",
    "            self.floodFill(image,sr+1,sc,color)\n",
    "        return image"
   ]
  }
 ],
 "metadata": {
  "language_info": {
   "name": "python"
  },
  "orig_nbformat": 4
 },
 "nbformat": 4,
 "nbformat_minor": 2
}
