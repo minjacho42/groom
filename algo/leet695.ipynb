{
 "cells": [
  {
   "cell_type": "markdown",
   "metadata": {},
   "source": [
    "## 695. Max Area of Island\n",
    "You are given an m x n binary matrix grid. An island is a group of 1's (representing land) connected 4-directionally (horizontal or vertical.) You may assume all four edges of the grid are surrounded by water.\n",
    "\n",
    "The area of an island is the number of cells with a value 1 in the island.\n",
    "\n",
    "Return the maximum area of an island in grid. If there is no island, return 0."
   ]
  },
  {
   "cell_type": "code",
   "execution_count": null,
   "metadata": {},
   "outputs": [],
   "source": [
    "class Solution:\n",
    "    def maxAreaOfIsland(self, grid) -> int:\n",
    "        temp_grid = grid\n",
    "        m = len(grid)\n",
    "        n = len(grid[0])\n",
    "        max = 0\n",
    "        for i in range(len(temp_grid)):\n",
    "            for j in range(len(temp_grid[0])):\n",
    "                if temp_grid[i][j] == 1:\n",
    "                    area = self.getArea(temp_grid, i, j, 0)\n",
    "                    if area > max:\n",
    "                        max = area\n",
    "        return max\n",
    "    def getArea(self, grid, row, col, area):\n",
    "        #print(f\"row = {row} col = {col} value = {grid[row][col]}\")\n",
    "        m = len(grid)\n",
    "        n = len(grid[0])\n",
    "        grid[row][col] = 0\n",
    "        area += 1\n",
    "        if col > 0 and grid[row][col-1] == 1:\n",
    "            area = self.getArea(grid, row, col-1, area)\n",
    "        if col < n-1 and grid[row][col+1] == 1:\n",
    "            area = self.getArea(grid, row, col+1, area)\n",
    "        if row > 0 and grid[row-1][col] == 1:\n",
    "            area = self.getArea(grid, row-1, col, area)\n",
    "        if row < m-1 and grid[row+1][col] == 1:\n",
    "            area = self.getArea(grid, row+1, col, area)\n",
    "        return area"
   ]
  }
 ],
 "metadata": {
  "language_info": {
   "name": "python"
  },
  "orig_nbformat": 4
 },
 "nbformat": 4,
 "nbformat_minor": 2
}
