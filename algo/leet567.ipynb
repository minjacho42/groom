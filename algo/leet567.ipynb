{
 "cells": [
  {
   "cell_type": "markdown",
   "metadata": {},
   "source": [
    "## 567. Permutation in String\n",
    "Given two strings s1 and s2, return true if s2 contains a permutation of s1, or false otherwise.\n",
    "\n",
    "In other words, return true if one of s1's permutations is the substring of s2."
   ]
  },
  {
   "cell_type": "code",
   "execution_count": null,
   "metadata": {},
   "outputs": [],
   "source": [
    "class Solution:\n",
    "    def checkInclusion(self, s1: str, s2: str) -> bool:\n",
    "        i = 0\n",
    "        start = 0\n",
    "        started = False\n",
    "        sample = list(s1)\n",
    "        while i < len(s2):\n",
    "            c = s2[i]\n",
    "            if c in sample:\n",
    "                if not started:\n",
    "                    started = True\n",
    "                    start = i\n",
    "                sample.remove(c)\n",
    "                if len(sample) == 0:\n",
    "                    return True\n",
    "            elif started:\n",
    "                if c in s1:\n",
    "                    sample.append(s2[start])\n",
    "                    if len(sample) == len(s1):\n",
    "                        started = False\n",
    "                    else:\n",
    "                        start += 1\n",
    "                    i -= 1\n",
    "                else:\n",
    "                    started = False\n",
    "                    sample = list(s1)\n",
    "            i += 1\n",
    "        return False"
   ]
  }
 ],
 "metadata": {
  "language_info": {
   "name": "python"
  },
  "orig_nbformat": 4
 },
 "nbformat": 4,
 "nbformat_minor": 2
}
