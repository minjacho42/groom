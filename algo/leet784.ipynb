{
 "cells": [
  {
   "cell_type": "markdown",
   "metadata": {},
   "source": [
    "## 784. Letter Case Permutation\n",
    "\n",
    "Given a string s, you can transform every letter individually to be lowercase or uppercase to create another string.\n",
    "\n",
    "Return a list of all possible strings we could create. Return the output in any order"
   ]
  },
  {
   "cell_type": "code",
   "execution_count": null,
   "metadata": {},
   "outputs": [],
   "source": [
    "from itertools import combinations\n",
    "class Solution:\n",
    "    def letterCasePermutation(self, s):\n",
    "        index = []\n",
    "        combs = []\n",
    "        strings = []\n",
    "        s = s.lower()\n",
    "        for i,c in enumerate(s):\n",
    "            if c.isalpha():\n",
    "                index.append(i)\n",
    "        for i in range(1,len(index)+1):\n",
    "            for instance in combinations(index, i):\n",
    "                combs.append(instance)\n",
    "        strings.append(s)\n",
    "        for comb in combs:\n",
    "            string=\"\"\n",
    "            for i,c in enumerate(s):\n",
    "                if i in comb:\n",
    "                    c = c.upper()\n",
    "                string += c\n",
    "            strings.append(string)\n",
    "        return strings"
   ]
  },
  {
   "cell_type": "code",
   "execution_count": 14,
   "metadata": {},
   "outputs": [
    {
     "data": {
      "text/plain": [
       "['A1b2', 'a1B2', 'A1B2']"
      ]
     },
     "execution_count": 14,
     "metadata": {},
     "output_type": "execute_result"
    }
   ],
   "source": [
    "from itertools import combinations\n",
    "class Solution:\n",
    "    def letterCasePermutation(self, s):\n",
    "        index = []\n",
    "        combs = []\n",
    "        strings = []\n",
    "        for i,c in enumerate(s):\n",
    "            if c.isalpha():\n",
    "                index.append(i)\n",
    "        for i in range(1,len(index)+1):\n",
    "            for instance in combinations(index, i):\n",
    "                combs.append(instance)\n",
    "        for comb in combs:\n",
    "            string=\"\"\n",
    "            for i,c in enumerate(s):\n",
    "                if i in comb:\n",
    "                    c = c.upper()\n",
    "                string += c\n",
    "            strings.append(string)\n",
    "        return strings"
   ]
  }
 ],
 "metadata": {
  "kernelspec": {
   "display_name": "Python 3.9.12 ('base')",
   "language": "python",
   "name": "python3"
  },
  "language_info": {
   "codemirror_mode": {
    "name": "ipython",
    "version": 3
   },
   "file_extension": ".py",
   "mimetype": "text/x-python",
   "name": "python",
   "nbconvert_exporter": "python",
   "pygments_lexer": "ipython3",
   "version": "3.9.12"
  },
  "orig_nbformat": 4,
  "vscode": {
   "interpreter": {
    "hash": "c3108f0eb53a8b68eb4132aec50c5cd9cd32243b94aaa2255ce7d2c62f93cae5"
   }
  }
 },
 "nbformat": 4,
 "nbformat_minor": 2
}
