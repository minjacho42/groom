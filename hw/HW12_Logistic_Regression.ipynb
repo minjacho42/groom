{
  "cells": [
    {
      "cell_type": "markdown",
      "metadata": {
        "id": "PC5iYX_87zOH"
      },
      "source": [
        "# [HW12] Logistic Regression\n"
      ]
    },
    {
      "cell_type": "markdown",
      "metadata": {
        "id": "j952JCeI8Pj1"
      },
      "source": [
        "우리는 지금까지 주어진 데이터와 가장 잘 맞는 직선을 찾는 linear regression을 진행하였습니다. 하지만 예측 값이 연속적인 값을 갖지 않는다면 어떻게 할까요? \n",
        "\n",
        "가장 대표적인 것은 binary classification 입니다. 이는 종류가 2개로 나뉘어진 데이터가 있고 이를 분류하는 문제입니다. 수많은 메일들 중에서 스팸인 메일과 스팸이 아닌 메일을 분류하는 것이 하나의 예시입니다. 이 문제는 예측 값이 연속적인 값이 아닌 0 또는 1입니다. \n",
        "\n",
        "이때는 우리의 예측 값을 확률 값으로 만든 다음에 확률 값이 우리의 기준보다 높으면 1, 아니면 0으로 분류합니다. \n",
        "\n",
        "이러한 문제를 푸는 방법을 logistic regression이라고 합니다. \n",
        "\n"
      ]
    },
    {
      "cell_type": "markdown",
      "metadata": {
        "id": "O_U2Nd7N_87Z"
      },
      "source": [
        "## 1.1 Logistic function\n",
        "\n",
        "Logistic regression을 진행하기 위해서는 출력 값을 0과 1의 값으로 맞춰주어야 합니다. 이를 위해서 우리는 **logistic function** 을 사용합니다. Logistic function은 다음과 같습니다. \n",
        "\n",
        "$$\\sigma(z) = \\frac{1}{1 + e^{-z}}$$\n",
        "\n",
        "Logistic regression을 진행할 때 입력 데이터를 $x$, 실제 class 값을 $y$, 예측된 출력 값을 $\\hat{y}$라고 하면 $x$는 두가지 변환을 거쳐서 $\\hat{y}$가 됩니다. \n",
        "$$z = wx + b$$\n",
        "$$\\hat{y} = \\sigma(z)$$\n",
        "우리의 목표는 $\\hat{y}$가 실제 $y$와 가장 가깝게 되도록 하는 $w$와 $b$를 찾는 것 입니다. \n",
        "\n",
        "Logistic function을 코드를 통해서 알아보도록 하겠습니다. "
      ]
    },
    {
      "cell_type": "code",
      "execution_count": 3,
      "metadata": {
        "id": "o6XG4PsA7yCn"
      },
      "outputs": [],
      "source": [
        "import sympy\n",
        "import numpy\n",
        "\n",
        "from matplotlib import pyplot\n",
        "%matplotlib inline"
      ]
    },
    {
      "cell_type": "code",
      "execution_count": 4,
      "metadata": {
        "colab": {
          "base_uri": "https://localhost:8080/",
          "height": 52
        },
        "id": "wl47Xbw7CKOb",
        "outputId": "1be998bd-02cd-43ee-a1fd-87e2a932e312"
      },
      "outputs": [
        {
          "data": {
            "text/latex": [
              "$\\displaystyle \\frac{1}{1 + e^{- z}}$"
            ],
            "text/plain": [
              "1/(1 + exp(-z))"
            ]
          },
          "execution_count": 4,
          "metadata": {},
          "output_type": "execute_result"
        }
      ],
      "source": [
        "z = sympy.Symbol('z', real=True)\n",
        "\n",
        "logistic = 1/(1+ sympy.exp(-z))\n",
        "logistic"
      ]
    },
    {
      "cell_type": "code",
      "execution_count": 5,
      "metadata": {
        "colab": {
          "base_uri": "https://localhost:8080/",
          "height": 296
        },
        "id": "wx9uQ9diCLio",
        "outputId": "3d581fb5-6b48-4829-ba8f-5e3d164f8e37"
      },
      "outputs": [
        {
          "data": {
            "image/png": "[encoded data removed]",
            "text/plain": [
              "<Figure size 432x288 with 1 Axes>"
            ]
          },
          "metadata": {
            "needs_background": "light"
          },
          "output_type": "display_data"
        }
      ],
      "source": [
        "sympy.plotting.plot(logistic);"
      ]
    },
    {
      "cell_type": "markdown",
      "metadata": {
        "id": "qQwgC9YOCmK0"
      },
      "source": [
        "위 그래프를 보면 $z=0$ 일 때 출력 값이 0.5가 됩니다. 그리고 양수 일 때는 1에 가까워지고 음수일 때는 0으로 가까워지게 됩니다. 이렇게 $z$값을 0과 1 사이로 표현할 수 있게 되었습니다. \n",
        "\n",
        "이제 데이터를 직접 만들어서 진행해 보도록 하겠습니다. "
      ]
    },
    {
      "cell_type": "code",
      "execution_count": 32,
      "metadata": {
        "colab": {
          "base_uri": "https://localhost:8080/",
          "height": 265
        },
        "id": "kT-4DzmUCM7A",
        "outputId": "f1110cde-f6e7-4e76-dce6-13366136470b"
      },
      "outputs": [
        {
          "data": {
            "image/png": "[encoded data removed]",
            "text/plain": [
              "<Figure size 432x288 with 1 Axes>"
            ]
          },
          "metadata": {
            "needs_background": "light"
          },
          "output_type": "display_data"
        }
      ],
      "source": [
        "# synthetic data\n",
        "x_data = numpy.linspace(-5, 5, 100)\n",
        "w = 2\n",
        "b = 1\n",
        "numpy.random.seed(0)\n",
        "z_data = w * x_data + b + numpy.random.normal(size=len(x_data))\n",
        "y_data = 1 / (1+ numpy.exp(-z_data))\n",
        "\n",
        "pyplot.scatter(x_data, y_data, alpha=0.4);"
      ]
    },
    {
      "cell_type": "markdown",
      "metadata": {
        "id": "hArMh-RTDS-s"
      },
      "source": [
        "이번에도 [HW10]에서 진행한 것과 같이 조금의 noise를 추가해서 데이터를 생성하였습니다. \n",
        "\n",
        "이제 실제 class 값을 정해주어야 합니다. Numpy 패키지 안의 where 함수로 0.5 보다 큰 값을 1, 작은 값을 0으로 class를 부여해 주겠습니다. "
      ]
    },
    {
      "cell_type": "code",
      "execution_count": 33,
      "metadata": {
        "colab": {
          "base_uri": "https://localhost:8080/",
          "height": 265
        },
        "id": "PolN3Oc-DHem",
        "outputId": "04639690-8860-455d-c7cf-850df51d3031"
      },
      "outputs": [
        {
          "data": {
            "image/png": "[encoded data removed]",
            "text/plain": [
              "<Figure size 432x288 with 1 Axes>"
            ]
          },
          "metadata": {
            "needs_background": "light"
          },
          "output_type": "display_data"
        }
      ],
      "source": [
        "y_data = numpy.where(y_data >= 0.5, 1, 0)\n",
        "pyplot.scatter(x_data, y_data, alpha=0.4);"
      ]
    },
    {
      "cell_type": "markdown",
      "metadata": {
        "id": "HdpwKYU4D2AQ"
      },
      "source": [
        "## 1.2 Logistic loss function\n",
        "\n",
        "$\\hat{y}$가 실제 $y$와 가장 가깝게 되도록 하는 $w$와 $b$를 찾으려면 우리는 cost function을 정의해야 합니다. \n",
        "\n",
        "Linear regression 문제를 해결할 때는 mean square error를 사용했습니다. \n",
        "\n",
        "하지만 logistic regression에 적용하면 문제가 생깁니다. \n",
        "\n",
        "기존의 linear regression에서의 mean square error 에서는 \n",
        "\n",
        "$$\\frac{1}{n} \\sum_{i=1}^n (y_i - (wx_i + b))^2$$\n",
        "\n",
        "의 형태를 이루고 있어서 convex 한 형태를 이루고 있었습니다. \n",
        "\n",
        "그런데 logistic function을 포함한 logistic regression에서는 \n",
        "\n",
        "$$\\frac{1}{n} \\sum_{i=1}^n (y_i - \\sigma(wx_i + b))^2$$\n",
        "\n",
        "$\\sigma$인 logistic function 때문에 더이상 convex 한 형태가 아닙니다. 예시를 통해서 왜 convex가 아닌지 알아보겠습니다. \n",
        "\n",
        "간단한 예시를 위해 $w = 1, b=0$일 때 3개의 데이터를 통해서 알아보겠습니다.\n",
        "\n",
        "$(x, y) : (-1, 2), (-20, -1), (-5, 5)$ 일 때 cost function을 그래프로 나타내면 다음과 같습니다.    "
      ]
    },
    {
      "cell_type": "code",
      "execution_count": 7,
      "metadata": {
        "colab": {
          "base_uri": "https://localhost:8080/",
          "height": 61
        },
        "id": "OUJU-DJtJQ4t",
        "outputId": "5b13bd2a-018b-43e4-cf49-01f559e54da8"
      },
      "outputs": [
        {
          "data": {
            "text/latex": [
              "$\\displaystyle \\left(-1 - \\frac{1}{1 + e^{- 20 z}}\\right)^{2} + \\left(2 - \\frac{1}{1 + e^{- z}}\\right)^{2} + \\left(5 - \\frac{1}{1 + e^{- 5 z}}\\right)^{2}$"
            ],
            "text/plain": [
              "(-1 - 1/(1 + exp(-20*z)))**2 + (2 - 1/(1 + exp(-z)))**2 + (5 - 1/(1 + exp(-5*z)))**2"
            ]
          },
          "execution_count": 7,
          "metadata": {},
          "output_type": "execute_result"
        }
      ],
      "source": [
        "badloss = (2 - 1/(1+ sympy.exp(-z)))**2 + \\\n",
        "          (-1 - 1/(1+ sympy.exp(-20*z)))**2  + \\\n",
        "          (5 - 1/(1+ sympy.exp(-5*z)))**2\n",
        "badloss"
      ]
    },
    {
      "cell_type": "code",
      "execution_count": 8,
      "metadata": {
        "colab": {
          "base_uri": "https://localhost:8080/",
          "height": 297
        },
        "id": "u7CHq0w-mRGf",
        "outputId": "e781d150-185d-4101-8bb4-ed2f38139639"
      },
      "outputs": [
        {
          "data": {
            "image/png": "[encoded data removed]",
            "text/plain": [
              "<Figure size 432x288 with 1 Axes>"
            ]
          },
          "metadata": {
            "needs_background": "light"
          },
          "output_type": "display_data"
        }
      ],
      "source": [
        "sympy.plotting.plot(badloss, xlim=(-1,1));"
      ]
    },
    {
      "cell_type": "markdown",
      "metadata": {
        "id": "8CPKIhZTmVrU"
      },
      "source": [
        "Gradient descent 방식으로 위 cost function의 최솟값을 구하게 되면 중간에 기울기가 0인 지점에서 멈추게 되고, 우리는 원하는 가장 작은 값에 도달하지 못하고 local minimum에 도달하게 됩니다. \n",
        "\n"
      ]
    },
    {
      "cell_type": "markdown",
      "metadata": {
        "id": "g3tCDtPTn0u0"
      },
      "source": [
        "그래서 mean square error말고 다른 방법을 찾기 위해 cost function의 의미를 다시 한번 생각해 보겠습니다. \n",
        "\n",
        "우리가 어떤 값을 예측할 때 많이 틀렸다면, 예측하는데 쓰인 변수들을 많이 바꾸어야 합니다. 그에 비해 조금 틀렸다면, 이미 잘 예측하고 있기 때문에 변수들을 조금 바꾸어야 합니다. 많이 바꾸고, 조금 바꾸는 것은 기울기의 크기가 정합니다. 이러한 원리를 사용해서 linear regression에서는 square error를 쓰는 것입니다. \n",
        "\n",
        "이 원리를 logistic regression에도 적용해 보겠습니다. \n",
        "\n",
        "$z = wx + b$ 일 때 cost function $L$을 b에 대해서 미분을 해보겠습니다. Chain rule을 사용하면 다음과 같게 됩니다. \n",
        "\n",
        "$$\\frac{\\partial{L}}{\\partial{b}} = \\frac{\\partial{L}}{\\partial{\\sigma(z)}} \\frac{\\partial{\\sigma(z)}}{\\partial{z}}\\frac{\\partial{z}}{\\partial{b}}$$\n",
        "\n",
        "이 때 $\\frac{\\partial{z}}{\\partial{b}}$는 1이 돼서 사라집니다. \n",
        "\n",
        "이제 $\\frac{\\partial{\\sigma(z)}}{\\partial{z}}$에 대해서 알아보겠습니다. "
      ]
    },
    {
      "cell_type": "code",
      "execution_count": 9,
      "metadata": {
        "colab": {
          "base_uri": "https://localhost:8080/",
          "height": 60
        },
        "id": "0CQD2xfSD0Nx",
        "outputId": "8cb5739f-3d2d-4c83-b617-a4580348d0d1"
      },
      "outputs": [
        {
          "data": {
            "text/latex": [
              "$\\displaystyle \\frac{e^{- z}}{\\left(1 + e^{- z}\\right)^{2}}$"
            ],
            "text/plain": [
              "exp(-z)/(1 + exp(-z))**2"
            ]
          },
          "execution_count": 9,
          "metadata": {},
          "output_type": "execute_result"
        }
      ],
      "source": [
        "lprime = logistic.diff(z)\n",
        "lprime"
      ]
    },
    {
      "cell_type": "markdown",
      "metadata": {
        "id": "6kF_uFMToeOX"
      },
      "source": [
        "위에서 나온 $\\sigma'(z)$를 정리를 해보겠습니다. \n",
        "\n",
        "\n",
        "$$\\frac{\\partial{\\sigma(z)}}{\\partial{z}} = \\frac{e^{-z}}{(1+e^{-z})^2} = \\frac{1}{1+e^{-z}} \\times \\frac{e^{-z}}{1+e^{-z}} = \\sigma(z)\\times \\frac{e^{-z}}{1+e^{-z}} $$\n",
        "가 되고, 여기서 $\\frac{e^{-z}}{1+e^{-z}} $를 다시 정리해보면 다음과 같습니다. \n",
        "\n",
        "$$\\frac{e^{-z}}{1+e^{-z}} = \\frac{1 + e^{-z} -1}{1 + e^{-z}} = 1 - \\frac{1}{1+e^{-z}} = 1-\\sigma(z)$$\n",
        "\n",
        "결론적으로, \n",
        "$$\\sigma'(z) = \\sigma(z) ( 1 - \\sigma(z))$$\n",
        "가 됩니다. \n"
      ]
    },
    {
      "cell_type": "markdown",
      "metadata": {
        "id": "iPJhjtQSzFZ5"
      },
      "source": [
        "다시한번 위 식을 정리해보면 다음과 같습니다. \n",
        "\n",
        "\n",
        "$$\\frac{\\partial{L}}{\\partial{b}} = \\frac{\\partial{L}}{\\partial{\\sigma(z)}} \\frac{\\partial{\\sigma(z)}}{\\partial{z}} = \\frac{\\partial{L}}{\\partial{\\sigma(z)}} \\sigma(z) (1-\\sigma(z))$$\n",
        "\n",
        "여기서 우리는 $\\frac{\\partial{L}}{\\partial{b}}$의 값이 예측 값과 실제 값의 차이가 클수록 크고, 작을수록 작게 하고 싶기 때문에 $\\frac{\\partial{L}}{\\partial{b}} = (y - \\sigma(z))$로 정의하겠습니다. 정리하면 다음과 같습니다. \n",
        "\n",
        "$$\\frac{\\partial{L}}{\\partial{\\sigma(z)}} = \\frac{(y-\\sigma(z))}{\\sigma(z)(1-\\sigma(z))}$$\n",
        "\n",
        "이제 위 식을 $L$에 대해서 코드를 통해서 정리해보겠습니다. 코드를 간단히 하기 위해서 $\\sigma(z) = a$라고 치환해서 생각하겠습니다. "
      ]
    },
    {
      "cell_type": "code",
      "execution_count": 10,
      "metadata": {
        "id": "Kmx-QOeyqcc6"
      },
      "outputs": [],
      "source": [
        "a, y = sympy.symbols('a y', real=True)"
      ]
    },
    {
      "cell_type": "code",
      "execution_count": 11,
      "metadata": {
        "colab": {
          "base_uri": "https://localhost:8080/",
          "height": 54
        },
        "id": "LuLCcaVKCdfq",
        "outputId": "846e110d-9d13-4f7d-89ad-0313d48a7eb5"
      },
      "outputs": [
        {
          "data": {
            "text/latex": [
              "$\\displaystyle \\frac{- a + y}{a \\left(1 - a\\right)}$"
            ],
            "text/plain": [
              "(-a + y)/(a*(1 - a))"
            ]
          },
          "execution_count": 11,
          "metadata": {},
          "output_type": "execute_result"
        }
      ],
      "source": [
        "dLda = (y-a)/a/(1-a)\n",
        "dLda"
      ]
    },
    {
      "cell_type": "code",
      "execution_count": 12,
      "metadata": {
        "colab": {
          "base_uri": "https://localhost:8080/",
          "height": 58
        },
        "id": "18vn7htwCfPc",
        "outputId": "afb24ef6-6607-4bd4-9d69-ed3947473cb1"
      },
      "outputs": [
        {
          "data": {
            "text/latex": [
              "$\\displaystyle y \\log{\\left(a \\right)} + \\left(1 - y\\right) \\log{\\left(a + \\frac{1 - 2 y}{2 y - 1} \\right)}$"
            ],
            "text/plain": [
              "y*log(a) + (1 - y)*log(a + (1 - 2*y)/(2*y - 1))"
            ]
          },
          "execution_count": 12,
          "metadata": {},
          "output_type": "execute_result"
        }
      ],
      "source": [
        "L = sympy.integrate(dLda, a)\n",
        "L"
      ]
    },
    {
      "cell_type": "code",
      "execution_count": 13,
      "metadata": {
        "colab": {
          "base_uri": "https://localhost:8080/",
          "height": 39
        },
        "id": "1xi1BfW3Ch_v",
        "outputId": "1e0be608-285f-40e2-9ac3-08e77a5d3b74"
      },
      "outputs": [
        {
          "data": {
            "text/latex": [
              "$\\displaystyle y \\log{\\left(a \\right)} - \\left(y - 1\\right) \\log{\\left(a - 1 \\right)}$"
            ],
            "text/plain": [
              "y*log(a) - (y - 1)*log(a - 1)"
            ]
          },
          "execution_count": 13,
          "metadata": {},
          "output_type": "execute_result"
        }
      ],
      "source": [
        "sympy.simplify(L)"
      ]
    },
    {
      "cell_type": "markdown",
      "metadata": {
        "id": "Tk4D09J5ClfC"
      },
      "source": [
        "여기서 $a = \\sigma(z)$이기 때문에 $ a < 1 $이 됩니다. 그래서 $\\log$ 안의 값이 음수가 되면 안되기 때문에 식을 변환해 줍니다. "
      ]
    },
    {
      "cell_type": "code",
      "execution_count": 14,
      "metadata": {
        "colab": {
          "base_uri": "https://localhost:8080/",
          "height": 39
        },
        "id": "EbzmrF3WCjP-",
        "outputId": "49d497f0-1d54-4e9a-c9f0-ddeab7e2194e"
      },
      "outputs": [
        {
          "data": {
            "text/latex": [
              "$\\displaystyle - y \\log{\\left(a \\right)} + \\left(y - 1\\right) \\log{\\left(1 - a \\right)}$"
            ],
            "text/plain": [
              "-y*log(a) + (y - 1)*log(1 - a)"
            ]
          },
          "execution_count": 14,
          "metadata": {},
          "output_type": "execute_result"
        }
      ],
      "source": [
        "L = -y*sympy.log(a) + (y-1)*sympy.log(1-a)\n",
        "L"
      ]
    },
    {
      "cell_type": "markdown",
      "metadata": {
        "id": "pGka-88WDhIZ"
      },
      "source": [
        "우리가 구한 cost function $L$은 \n",
        "$L = -y \\log(a) + (y-1)\\log(1-a)$이 됩니다. \n",
        "\n",
        "이제 실제로 차이가 클 때 $L$값이 커지는지 알아보도록 하겠습니다. \n"
      ]
    },
    {
      "cell_type": "markdown",
      "metadata": {
        "id": "tvBN_hRPD9Bk"
      },
      "source": [
        "먼저 만약 $y=1$이라면 $L = -\\log(a)$만 남게 됩니다. 그래프로 표현하면 다음과 같습니다. "
      ]
    },
    {
      "cell_type": "code",
      "execution_count": 15,
      "metadata": {
        "colab": {
          "base_uri": "https://localhost:8080/",
          "height": 297
        },
        "id": "1iU8OR9zDXVn",
        "outputId": "2c4648c4-9f2f-4217-b712-33866f3505ea"
      },
      "outputs": [
        {
          "data": {
            "image/png": "[encoded data removed]",
            "text/plain": [
              "<Figure size 432x288 with 1 Axes>"
            ]
          },
          "metadata": {
            "needs_background": "light"
          },
          "output_type": "display_data"
        }
      ],
      "source": [
        "sympy.plotting.plot(-sympy.log(a), xlim=(0,1));"
      ]
    },
    {
      "cell_type": "markdown",
      "metadata": {
        "id": "z1sYhc0aE_CU"
      },
      "source": [
        "실제 class 가 1일 때 예측 값이 0에 가까워지면 cost function값이 커지고, 1에 가까워지면 cost function이 작아지는 것을 알 수 있습니다. 이는 우리가 원래 목표했던 것과 동일합니다. \n",
        "\n",
        "이제 $y=0$이라면 $L = \\log(1-a)$ 만 남게 됩니다. 이를 또한 그래프로 표현하면 다음과 같습니다. "
      ]
    },
    {
      "cell_type": "code",
      "execution_count": null,
      "metadata": {
        "colab": {
          "base_uri": "https://localhost:8080/",
          "height": 297
        },
        "id": "E6d2ppuEE-SH",
        "outputId": "d9ea5c8a-39b4-4cc9-cf5b-d7328a305496"
      },
      "outputs": [
        {
          "data": {
            "image/png": "[encoded data removed]",
            "text/plain": [
              "<Figure size 432x288 with 1 Axes>"
            ]
          },
          "metadata": {
            "needs_background": "light"
          },
          "output_type": "display_data"
        }
      ],
      "source": [
        "sympy.plotting.plot(-sympy.log(1-a), xlim=(0,1));"
      ]
    },
    {
      "cell_type": "markdown",
      "metadata": {
        "id": "xWO0g8TlFe17"
      },
      "source": [
        "이번에도 예측값이 실제 값이랑 가까워지면 cost function값이 작아지고 멀어지면 커지게 됨을 알 수 있습니다. "
      ]
    },
    {
      "cell_type": "markdown",
      "metadata": {
        "id": "h45s_7puFlhT"
      },
      "source": [
        "## 1.3 Find the parameters using autograd function\n",
        "\n",
        "이제 logistic regression의 전체적인 과정을 코드를 통해서 알아보도록 하겠습니다. "
      ]
    },
    {
      "cell_type": "code",
      "execution_count": 16,
      "metadata": {
        "colab": {
          "base_uri": "https://localhost:8080/",
          "height": 52
        },
        "id": "6gt2Pt9XFdzJ",
        "outputId": "1a0f19ac-83f7-4993-9b38-9fbaef7c2382"
      },
      "outputs": [
        {
          "data": {
            "text/latex": [
              "$\\displaystyle \\frac{1}{1 + e^{- z}}$"
            ],
            "text/plain": [
              "1/(1 + exp(-z))"
            ]
          },
          "execution_count": 16,
          "metadata": {},
          "output_type": "execute_result"
        }
      ],
      "source": [
        "logistic"
      ]
    },
    {
      "cell_type": "code",
      "execution_count": 17,
      "metadata": {
        "colab": {
          "base_uri": "https://localhost:8080/",
          "height": 58
        },
        "id": "hkKb-1A6HaiU",
        "outputId": "d0be5a0d-06e8-430c-89be-4e26b7f98841"
      },
      "outputs": [
        {
          "data": {
            "text/latex": [
              "$\\displaystyle - y \\log{\\left(\\frac{1}{e^{- b - w x} + 1} \\right)} - \\left(1 - y\\right) \\log{\\left(1 - \\frac{1}{e^{- b - w x} + 1} \\right)}$"
            ],
            "text/plain": [
              "-y*log(1/(exp(-b - w*x) + 1)) - (1 - y)*log(1 - 1/(exp(-b - w*x) + 1))"
            ]
          },
          "execution_count": 17,
          "metadata": {},
          "output_type": "execute_result"
        }
      ],
      "source": [
        "w, b, x, y = sympy.symbols('w b x y')\n",
        "logistic = 1/(1+ sympy.exp(-w*x-b)) # redefined with the composition\n",
        "\n",
        "Loss = -y*sympy.log(logistic) - (1-y)*sympy.log(1-logistic)\n",
        "Loss"
      ]
    },
    {
      "cell_type": "markdown",
      "metadata": {
        "id": "hl4w5eGzKHN_"
      },
      "source": [
        "지금까지 diff 를 통해서 기울기를 구했습니다. 그런데 식이 복잡해질수록 속도가 느려지기 때문에 autograd를 통해서 구해보겠습니다. "
      ]
    },
    {
      "cell_type": "code",
      "execution_count": 19,
      "metadata": {
        "id": "E4fvMUa4Hcuf"
      },
      "outputs": [],
      "source": [
        "# import the autograd-wrapped version of numpy\n",
        "from autograd import numpy"
      ]
    },
    {
      "cell_type": "code",
      "execution_count": 18,
      "metadata": {
        "id": "up7JooetKYb0"
      },
      "outputs": [],
      "source": [
        "# import the gradient calculator\n",
        "from autograd import grad "
      ]
    },
    {
      "cell_type": "code",
      "execution_count": 27,
      "metadata": {
        "id": "4DWKtN9-KZhh"
      },
      "outputs": [],
      "source": [
        "# note: the namespace numpy is the autograd wrapper to NumPy\n",
        "\n",
        "def logistic(z):\n",
        "    '''The logistic function'''\n",
        "    return 1 / (1 + numpy.exp(-z))\n",
        "    \n",
        "def logistic_model(params, x):\n",
        "    '''A prediction model based on the logistic function composed with wx+b\n",
        "    Arguments:\n",
        "       params: array(w,b) of model parameters\n",
        "       x :  array of x data'''\n",
        "    w = params[0]\n",
        "    b = params[1]\n",
        "    z = w * x + b\n",
        "    y = logistic(z)\n",
        "    return y\n",
        "\n",
        "def log_loss(params, model, x, y):\n",
        "    '''The logistic loss function\n",
        "    Arguments:\n",
        "       params: array(w,b) of model parameters\n",
        "       model:  the Python function for the logistic model\n",
        "       x, y:   arrays of input data to the model'''\n",
        "    y_pred = model(params, x)\n",
        "    return -numpy.mean(y * numpy.log(y_pred) + (1-y) * numpy.log(1 - y_pred))"
      ]
    },
    {
      "cell_type": "code",
      "execution_count": 28,
      "metadata": {
        "id": "hOWcZhUfKcGA"
      },
      "outputs": [],
      "source": [
        "# get a function to compute the gradient of the logistic loss\n",
        "gradient = grad(log_loss)"
      ]
    },
    {
      "cell_type": "code",
      "execution_count": 29,
      "metadata": {
        "colab": {
          "base_uri": "https://localhost:8080/"
        },
        "id": "Cis2i_3pKdRc",
        "outputId": "36625b0f-854f-4e8d-dc72-4c84e1217985"
      },
      "outputs": [
        {
          "data": {
            "text/plain": [
              "function"
            ]
          },
          "execution_count": 29,
          "metadata": {},
          "output_type": "execute_result"
        }
      ],
      "source": [
        "type(gradient)"
      ]
    },
    {
      "cell_type": "markdown",
      "metadata": {
        "id": "UAAq18KCPUOu"
      },
      "source": [
        "이 떄 grad 함수는 변수 개수만큼 output을 만들게 됩니다. 우리는 $w, b$ 2개의 변수가 있습니다. 먼저 예시로 랜덤으로 초기화한 변수를 넣어서 기울기값을 구해보겠습니다. "
      ]
    },
    {
      "cell_type": "code",
      "execution_count": 30,
      "metadata": {
        "colab": {
          "base_uri": "https://localhost:8080/"
        },
        "id": "0lx4uedmKeKH",
        "outputId": "3e2a6408-46d1-4c95-e5af-6211b8553a1d"
      },
      "outputs": [
        {
          "name": "stdout",
          "output_type": "stream",
          "text": [
            "[0.5488135  0.71518937]\n"
          ]
        }
      ],
      "source": [
        "numpy.random.seed(0)\n",
        "params = numpy.random.rand(2)\n",
        "print(params)"
      ]
    },
    {
      "cell_type": "code",
      "execution_count": 34,
      "metadata": {
        "colab": {
          "base_uri": "https://localhost:8080/"
        },
        "id": "xpcSkjhMPjRp",
        "outputId": "a2ca306e-fbc6-4949-db80-e947d022b0c8"
      },
      "outputs": [
        {
          "data": {
            "text/plain": [
              "array([-0.42734877,  0.08274066])"
            ]
          },
          "execution_count": 34,
          "metadata": {},
          "output_type": "execute_result"
        }
      ],
      "source": [
        "gradient(params, logistic_model, x_data, y_data)"
      ]
    },
    {
      "cell_type": "markdown",
      "metadata": {
        "id": "MqStwjeMPk-u"
      },
      "source": [
        "이렇게 2개의 변수에 대해서 각각 기울기 값을 반환해줍니다. \n",
        "\n",
        "이번에 gradient descent 를 진행할 때는 새로운 조건을 추가해서 진행하겠습니다. 우리가 정한 반복 수 외의 기울기 값이 0에 가까워지면 더이상 반복을 하지 않는 조건을 추가하겠습니다. 0에 가까운 값을 설정한 뒤 그것보다 작아지면 while 문이 멈추도록 설정하여서 gradient descent 를 진행하겠습니다. "
      ]
    },
    {
      "cell_type": "code",
      "execution_count": 38,
      "metadata": {
        "colab": {
          "base_uri": "https://localhost:8080/",
          "height": 319
        },
        "id": "rJMwsVLXPkXJ",
        "outputId": "a659b5d6-c78a-4538-a034-b78ee991bc54"
      },
      "outputs": [
        {
          "name": "stdout",
          "output_type": "stream",
          "text": [
            "Optimized value of w is 3.9605082723788887 vs. true value: 2\n",
            "Optimized value of b is 1.1306283025398258 vs. true value: 1\n",
            "Exited after 5000 iterations\n"
          ]
        },
        {
          "data": {
            "image/png": "[encoded data removed]",
            "text/plain": [
              "<Figure size 432x288 with 1 Axes>"
            ]
          },
          "metadata": {
            "needs_background": "light"
          },
          "output_type": "display_data"
        }
      ],
      "source": [
        "max_iter = 5000\n",
        "i = 0\n",
        "descent = numpy.ones(len(params))\n",
        "\n",
        "while numpy.linalg.norm(descent) > 0.001 and i < max_iter:\n",
        "\n",
        "    descent = gradient(params, logistic_model, x_data, y_data)\n",
        "    params = params - descent * 0.01\n",
        "    i += 1\n",
        "\n",
        "\n",
        "print('Optimized value of w is {} vs. true value: 2'.format(params[0]))\n",
        "print('Optimized value of b is {} vs. true value: 1'.format(params[1]))\n",
        "print('Exited after {} iterations'.format(i))\n",
        "\n",
        "\n",
        "pyplot.scatter(x_data, y_data, alpha=0.4)\n",
        "pyplot.plot(x_data, logistic_model(params, x_data), '-r');"
      ]
    },
    {
      "cell_type": "markdown",
      "metadata": {
        "id": "oUfsHqjmREyW"
      },
      "source": [
        "빨간색 곡선이 우리의 모델입니다. \n",
        "\n",
        "이제 기준값을 정하고 그것보다 크면 1, 작으면 0으로 분류를 하면 됩니다. \n",
        "\n",
        "이번에는 0.5로 설정해서 진행하겠습니다. "
      ]
    },
    {
      "cell_type": "code",
      "execution_count": 39,
      "metadata": {
        "id": "1tK7xOBTQvEP"
      },
      "outputs": [],
      "source": [
        "def decision_boundary(y):\n",
        "    return 1 if y >= .5 else 0"
      ]
    },
    {
      "cell_type": "markdown",
      "metadata": {
        "id": "JZJ05slTRd8T"
      },
      "source": [
        "모든 점을 함수에 넣어야 하는데 하나씩 넣으면 반복문을 돌아야해서 오래걸리기 때문에 numpy의 vectorize 함수를 사용하겠습니다. "
      ]
    },
    {
      "cell_type": "code",
      "execution_count": 40,
      "metadata": {
        "id": "pt4mqy51RTvI"
      },
      "outputs": [],
      "source": [
        "decision_boundary = numpy.vectorize(decision_boundary)"
      ]
    },
    {
      "cell_type": "code",
      "execution_count": 41,
      "metadata": {
        "colab": {
          "base_uri": "https://localhost:8080/",
          "height": 265
        },
        "id": "gp9y0s10RXKo",
        "outputId": "ddc9dc71-176b-4fb9-fb4c-212cff5c6f15"
      },
      "outputs": [
        {
          "data": {
            "image/png": "[encoded data removed]",
            "text/plain": [
              "<Figure size 432x288 with 1 Axes>"
            ]
          },
          "metadata": {
            "needs_background": "light"
          },
          "output_type": "display_data"
        }
      ],
      "source": [
        "def classify(predictions):\n",
        "    '''\n",
        "    Argument:\n",
        "    predictions, an array of values between 0 and 1\n",
        "    \n",
        "    Returns: \n",
        "    classified, an array of 0 and 1 values'''\n",
        "\n",
        "    return decision_boundary(predictions).flatten()\n",
        "\n",
        "pyplot.scatter(x_data, y_data, alpha=0.4,\n",
        "               label='true value')\n",
        "pyplot.scatter(x_data, classify(logistic_model(params, x_data)), alpha=0.4, \n",
        "               label='prediciton')\n",
        "\n",
        "pyplot.legend();"
      ]
    },
    {
      "cell_type": "markdown",
      "metadata": {
        "id": "hwDmsPjBR6XG"
      },
      "source": [
        "거의 모든 데이터들을 정확하게 예측한 것을 알 수 있습니다.\n",
        "\n",
        "이번 시간에는 직접 데이터를 만들어서 간단한 logistic regression 문제를 해결해 보았습니다. \n",
        "\n",
        "질문 있으면 편하게 해주세요~"
      ]
    },
    {
      "cell_type": "code",
      "execution_count": null,
      "metadata": {
        "id": "ZweIVtd8RYbE"
      },
      "outputs": [],
      "source": []
    }
  ],
  "metadata": {
    "colab": {
      "collapsed_sections": [],
      "name": "[HW12] Logistic Regression.ipynb",
      "provenance": []
    },
    "kernelspec": {
      "display_name": "Python 3.9.12 ('base')",
      "language": "python",
      "name": "python3"
    },
    "language_info": {
      "name": "python",
      "version": "3.9.12"
    },
    "vscode": {
      "interpreter": {
        "hash": "c3108f0eb53a8b68eb4132aec50c5cd9cd32243b94aaa2255ce7d2c62f93cae5"
      }
    }
  },
  "nbformat": 4,
  "nbformat_minor": 0
}
