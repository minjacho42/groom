{
 "cells": [
  {
   "cell_type": "markdown",
   "metadata": {},
   "source": [
    "### Exercise\n",
    "\n",
    "> 어떤 matrix의 determinant가 0일 경우, 해당 matrix는 invertible하지 않습니다. 위의 \"multiplicative change\"로 해석했을 때, 이는 어떤 의미일까요?\n"
   ]
  },
  {
   "cell_type": "markdown",
   "metadata": {},
   "source": [
    "matrix의 determinant가 0이라는 의미는 해당 matrix를 이용하여 multiplicative change를 했을 시에, 해당 unit cube가 존재하지 않게 된다는 의미로 해석 할 수 있다. (determinant의 절대값이 0이기 때문에 부피가 0이 된다.)"
   ]
  },
  {
   "cell_type": "markdown",
   "metadata": {},
   "source": [
    "### Exercise\n",
    "\n",
    "$\\Big\\{\\mathbf{a}, \\mathbf{b}\\Big\\}$ basis에서 좌표가 (-7, 11)인 vector $v$가 있습니다. $v$에 대해 $\\Big\\{\\mathbf{i}, \\mathbf{j}\\Big\\}$ 상에서 $T = \\begin{bmatrix} 3 & 5 \\\\ 2 & 11 \\end{bmatrix}$로 표현되는 linear transformation을 적용했을 때, 변환된 좌표를 구하시오. ($\\mathbf{a}, \\mathbf{b}$는 위 예시와 같습니다)"
   ]
  },
  {
   "cell_type": "code",
   "execution_count": 2,
   "metadata": {},
   "outputs": [
    {
     "name": "stdout",
     "output_type": "stream",
     "text": [
      "x_ij: [-3 15]\n",
      "linear transformed x_ij: [ 66 159]\n"
     ]
    }
   ],
   "source": [
    "import numpy as np\n",
    "v = np.array([-7,11])\n",
    "C = np.array([[2,1],[1,2]])\n",
    "T = np.array([[3,5],[2,11]])\n",
    "x_1 = C@v\n",
    "print('x_ij:',x_1)\n",
    "answer = T@x_1\n",
    "print('linear transformed x_ij:',answer)"
   ]
  },
  {
   "cell_type": "markdown",
   "metadata": {},
   "source": [
    "### Exercise"
   ]
  },
  {
   "cell_type": "code",
   "execution_count": 12,
   "metadata": {},
   "outputs": [],
   "source": [
    "import numpy as np\n",
    "import matplotlib.pyplot as plt\n",
    "plt.style.use('seaborn-poster')"
   ]
  },
  {
   "cell_type": "code",
   "execution_count": 65,
   "metadata": {},
   "outputs": [
    {
     "name": "stdout",
     "output_type": "stream",
     "text": [
      "error_1: 954.2540, error_2: 205.7798, error_3: 102.9521\n"
     ]
    }
   ],
   "source": [
    "b = np.array([66,74,78,72,70,80])\n",
    "# (1) Weight만 사용해서 life-span을 예측해봅시다.\n",
    "\n",
    "A_1 = np.array([60,65,55,70,45,50]).reshape(6,1)\n",
    "x_1 = np.linalg.inv(A_1.T@A_1)@A_1.T@b\n",
    "error_1 = ((A_1@x_1 - b)**2).sum()\n",
    "# (2) Weight, Height 2개를 이용해 life-span을 예측해봅시다.\n",
    "\n",
    "A_2 = np.append(A_1, np.array([177,170,175,180,155,160]).reshape(6,1), axis=1)\n",
    "x_2 = np.linalg.inv(A_2.T@A_2)@A_2.T@b\n",
    "error_2 = ((A_2@x_2 - b)**2).sum()\n",
    "\n",
    "# (2) Weight, Height, Is smoking 모두 사용해서 life-span을 예측해봅시다.\n",
    "\n",
    "A_3 = np.append(A_2, np.array([1,0,0,1,1,0]).reshape(6,1), axis=1)\n",
    "x_3 = np.linalg.inv(A_3.T@A_3)@A_3.T@b\n",
    "error_3 = ((A_3@x_3 - b)**2).sum()\n",
    "A_3@x_3\n",
    "\n",
    "print(\"error_1: %.4f, error_2: %.4f, error_3: %.4f\"%(error_1, error_2, error_3))"
   ]
  },
  {
   "cell_type": "markdown",
   "metadata": {},
   "source": [
    "> 위 코드를 완성시키고, 왜 error에 차이가 나는지 생각해봅시다."
   ]
  },
  {
   "cell_type": "markdown",
   "metadata": {},
   "source": [
    "\n",
    ">Quiz 1처럼 우리가 배운 식을 이용해 구할 수도 있지만, 이미 만들어진 함수들을 활용할 수도 있습니다.\n",
    "\n",
    "### Exercise\n",
    "\n",
    "> 2-1) Use np.linalg.lstsq (https://numpy.org/doc/stable/reference/generated/numpy.linalg.lstsq.html)"
   ]
  },
  {
   "cell_type": "code",
   "execution_count": 66,
   "metadata": {},
   "outputs": [
    {
     "data": {
      "text/plain": [
       "102.95214672495067"
      ]
     },
     "execution_count": 66,
     "metadata": {},
     "output_type": "execute_result"
    }
   ],
   "source": [
    "A = A_3\n",
    "x_4 = np.linalg.lstsq(A, b, rcond=False)[0]\n",
    "error_4 = ((A@x_4 - b)**2).sum()\n",
    "error_4"
   ]
  },
  {
   "cell_type": "markdown",
   "metadata": {},
   "source": [
    "> 2-2) Use optimize.curve_fit from scipy (https://docs.scipy.org/doc/scipy/reference/reference/generated/scipy.optimize.curve_fit.html?highlight=curve_fit#scipy.optimize.curve_fit)"
   ]
  },
  {
   "cell_type": "code",
   "execution_count": 43,
   "metadata": {},
   "outputs": [],
   "source": [
    "from scipy import optimize\n",
    "\n",
    "# 주의: 이 방식은 속도 등을 고려하지 않은, 예시 코드입니다.\n",
    "def func(data, x_1, x_2, x_3):\n",
    "  return data[0]*x_1 + data[1]*x_2 + data[2]*x_3"
   ]
  },
  {
   "cell_type": "code",
   "execution_count": 52,
   "metadata": {},
   "outputs": [
    {
     "name": "stdout",
     "output_type": "stream",
     "text": [
      "[60, 65, 55, 70, 45, 50] [177, 170, 175, 180, 155, 160] [1, 0, 0, 1, 1, 0] [66, 74, 78, 72, 70, 80]\n"
     ]
    }
   ],
   "source": [
    "weight = []\n",
    "height = []\n",
    "smoke = []\n",
    "for item in A:\n",
    "  weight.append(item[0])\n",
    "  height.append(item[1])\n",
    "  smoke.append(item[2])"
   ]
  },
  {
   "cell_type": "code",
   "execution_count": 63,
   "metadata": {},
   "outputs": [],
   "source": [
    "x_5 = optimize.curve_fit(func, xdata = [weight,height,smoke], ydata = b)[0]"
   ]
  },
  {
   "cell_type": "code",
   "execution_count": 64,
   "metadata": {},
   "outputs": [
    {
     "data": {
      "text/plain": [
       "102.95214672495065"
      ]
     },
     "execution_count": 64,
     "metadata": {},
     "output_type": "execute_result"
    }
   ],
   "source": [
    "error_5 = ((A@x_5 - b)**2).sum()\n",
    "error_5"
   ]
  }
 ],
 "metadata": {
  "kernelspec": {
   "display_name": "Python 3.9.12 ('base')",
   "language": "python",
   "name": "python3"
  },
  "language_info": {
   "codemirror_mode": {
    "name": "ipython",
    "version": 3
   },
   "file_extension": ".py",
   "mimetype": "text/x-python",
   "name": "python",
   "nbconvert_exporter": "python",
   "pygments_lexer": "ipython3",
   "version": "3.9.12"
  },
  "orig_nbformat": 4,
  "vscode": {
   "interpreter": {
    "hash": "c3108f0eb53a8b68eb4132aec50c5cd9cd32243b94aaa2255ce7d2c62f93cae5"
   }
  }
 },
 "nbformat": 4,
 "nbformat_minor": 2
}
