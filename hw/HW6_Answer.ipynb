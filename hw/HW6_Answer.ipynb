{
 "cells": [
  {
   "cell_type": "markdown",
   "metadata": {},
   "source": [
    "# 2. Gram-Schmidt orthonormalization"
   ]
  },
  {
   "cell_type": "markdown",
   "metadata": {},
   "source": [
    "### Exercise\n",
    "\n",
    "$$\n",
    "x_1 = \\begin{bmatrix} 3\\\\6\\\\2\\end{bmatrix}, x_2 = \\begin{bmatrix} 1\\\\2\\\\4\\end{bmatrix}, x_3 = \\begin{bmatrix} 2\\\\-2\\\\1\\end{bmatrix}\n",
    "$$\n",
    "\n",
    "$$v_1 = x_1 \\\\ u_1 = \\frac{v_1}{||v_1||}$$\n",
    "\n",
    "$$ \\hat{x_2} = \\text{Proj}_{\\mathcal{W_1}}x_2 = \\frac{x_2 \\cdot u_1}{u_1 \\cdot u_1}u_1 \\\\\n",
    "v_2 = x_2 - \\hat{x_2} = x_2 -  \\frac{x_2 \\cdot u_1}{u_1 \\cdot u_1}u_1 \\\\\n",
    "u_2 = \\frac{v_2}{||v_2||}\n",
    "$$\n",
    "\n",
    "$$ \\hat{x_3} = \\text{Proj}_{\\mathcal{W_2}}x_3 = \\frac{x_3 \\cdot u_1}{u_1 \\cdot u_1}u_1  + \\frac{x_3 \\cdot u_2}{u_2 \\cdot u_2}u_2 \\\\\n",
    "v_3 = x_3 - \\hat{x_3} = x_3 -  \\frac{x_3 \\cdot u_1}{u_1 \\cdot u_1}u_1  - \\frac{x_3 \\cdot u_2}{u_2 \\cdot u_2}u_2 \\\\\n",
    "u_3 = \\frac{v_3}{||v_3||}\n",
    "$$"
   ]
  },
  {
   "cell_type": "code",
   "execution_count": 29,
   "metadata": {},
   "outputs": [
    {
     "name": "stdout",
     "output_type": "stream",
     "text": [
      "0.9999999999999999\n",
      "u1 @ u2 = -2.7755575615628914e-17 (0의 근사치)\n",
      "x2_hat @ u2 = -1.1102230246251565e-16 (0의 근사치)\n"
     ]
    }
   ],
   "source": [
    "import numpy as np\n",
    "np.set_printoptions(precision=3)\n",
    "np.set_printoptions(suppress=True)\n",
    "\n",
    "x1 = np.array([3, 6, 2])\n",
    "x2 = np.array([1, 2, 4])\n",
    "x3 = np.array([2, -2, 1])\n",
    "\n",
    "v1 = x1 \n",
    "u1 = v1/np.linalg.norm(v1)\n",
    "print(u1@u1) # 문제가 생기는 부분\n",
    "x2_hat = (x2@u1)/(u1@u1)*u1\n",
    "v2 = x2_hat - x2\n",
    "u2 = v2/np.linalg.norm(v2)\n",
    "print(f\"u1 @ u2 = {u1 @ u2} (0의 근사치)\")\n",
    "print(f\"x2_hat @ u2 = {x2_hat @ u2} (0의 근사치)\")\n"
   ]
  },
  {
   "cell_type": "code",
   "execution_count": 25,
   "metadata": {},
   "outputs": [
    {
     "name": "stdout",
     "output_type": "stream",
     "text": [
      "u1 @ u3 = 0.0\n",
      "u2 @ u3 = 0.0\n",
      "x3_hat @ u3 = 0.0\n"
     ]
    }
   ],
   "source": [
    "\n",
    "x3_hat = (x3@u1)/(u1@u1)*u1 + (x3@u2)/(u2@u2)*u2\n",
    "v3 = x3 - x3_hat\n",
    "u3 = v3/np.linalg.norm(v3)\n",
    "\n",
    "print(f\"u1 @ u3 = {u1 @ u3}\")\n",
    "print(f\"u2 @ u3 = {u2 @ u3}\")\n",
    "print(f\"x3_hat @ u3 = {x3_hat @ u3}\")"
   ]
  },
  {
   "cell_type": "markdown",
   "metadata": {},
   "source": [
    "# 3. QR decomposition"
   ]
  },
  {
   "cell_type": "markdown",
   "metadata": {},
   "source": [
    "### Exercise\n",
    "\n",
    "위의 예시를 가져옵시다.\n",
    "\n",
    "* Matrix $A = \\begin{bmatrix} 3&1&2\\\\6&2&-2\\\\2&4&1\\end{bmatrix}$라고 할 때, 위의 Gram-Schmidt된 결과를 이용해서 A를 QR decompose 하시오 (hint: 아래 수식을 이용하시오)."
   ]
  },
  {
   "cell_type": "markdown",
   "metadata": {},
   "source": [
    "$$ \n",
    "u_1 = \\frac{v_1}{||v_1||} \\rightarrow x_1 = ||v_1|| \\; u_1\n",
    "\\\\\n",
    "u_2 = \\frac{v_2}{||v_2||} = \\frac{x_2 -  \\frac{x_2 \\cdot u_1}{u_1 \\cdot u_1}u_1}{||v_2||} \\rightarrow x_2 = \\frac{x_2 \\cdot u_1}{u_1 \\cdot u_1}u_1 + ||v_2|| \\; u_2\n",
    "\\\\\n",
    "u_3 = \\frac{v_3}{||v_3||} =  \\frac{x_3 -  \\frac{x_3 \\cdot u_1}{u_1 \\cdot u_1}u_1  - \\frac{x_3 \\cdot u_2}{u_2 \\cdot u_2}u_2 }{||v_3||} \\rightarrow x_3 = \\frac{x_3 \\cdot u_1}{u_1 \\cdot u_1}u_1 + \\frac{x_3 \\cdot u_2}{u_2 \\cdot u_2}u_2 + ||v_3|| \\; u_3  \\\\\n",
    "$$"
   ]
  },
  {
   "cell_type": "code",
   "execution_count": 21,
   "metadata": {},
   "outputs": [
    {
     "data": {
      "text/plain": [
       "(array([[ 0.429,  0.128,  0.894],\n",
       "        [ 0.857,  0.256, -0.447],\n",
       "        [ 0.286, -0.958,  0.   ]]),\n",
       " array([[ 7.   ,  3.286, -0.571],\n",
       "        [ 0.   , -3.194, -1.214],\n",
       "        [ 0.   ,  0.   ,  2.683]]))"
      ]
     },
     "execution_count": 21,
     "metadata": {},
     "output_type": "execute_result"
    }
   ],
   "source": [
    "A = np.array([[3,1,2],[6,2,-2],[2,4,1]])\n",
    "Q = np.array([u1,u2,u3]).T\n",
    "R = np.linalg.inv(Q)@A\n",
    "Q, R"
   ]
  },
  {
   "cell_type": "code",
   "execution_count": 22,
   "metadata": {},
   "outputs": [
    {
     "data": {
      "text/plain": [
       "(array([[-0.429, -0.128, -0.894],\n",
       "        [-0.857, -0.256,  0.447],\n",
       "        [-0.286,  0.958, -0.   ]]),\n",
       " array([[-7.   , -3.286,  0.571],\n",
       "        [ 0.   ,  3.194,  1.214],\n",
       "        [ 0.   ,  0.   , -2.683]]))"
      ]
     },
     "execution_count": 22,
     "metadata": {},
     "output_type": "execute_result"
    }
   ],
   "source": [
    "Q, R = np.linalg.qr(A)\n",
    "Q, R"
   ]
  }
 ],
 "metadata": {
  "kernelspec": {
   "display_name": "Python 3.9.12 ('base')",
   "language": "python",
   "name": "python3"
  },
  "language_info": {
   "codemirror_mode": {
    "name": "ipython",
    "version": 3
   },
   "file_extension": ".py",
   "mimetype": "text/x-python",
   "name": "python",
   "nbconvert_exporter": "python",
   "pygments_lexer": "ipython3",
   "version": "3.9.12"
  },
  "orig_nbformat": 4,
  "vscode": {
   "interpreter": {
    "hash": "c3108f0eb53a8b68eb4132aec50c5cd9cd32243b94aaa2255ce7d2c62f93cae5"
   }
  }
 },
 "nbformat": 4,
 "nbformat_minor": 2
}
